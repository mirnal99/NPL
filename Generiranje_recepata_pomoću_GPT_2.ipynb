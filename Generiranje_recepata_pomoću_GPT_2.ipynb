{
 "cells": [
  {
   "cell_type": "code",
   "execution_count": null,
   "metadata": {
    "colab": {
     "base_uri": "https://localhost:8080/"
    },
    "id": "fnL99KidylAy",
    "outputId": "e9c77457-1a38-4ebb-c924-b4ea8b852185"
   },
   "outputs": [
    {
     "name": "stdout",
     "output_type": "stream",
     "text": [
      "Mounted at /content/drive\n"
     ]
    }
   ],
   "source": [
    "from google.colab import drive\n",
    "drive.mount('/content/drive')"
   ]
  },
  {
   "cell_type": "code",
   "execution_count": null,
   "metadata": {
    "colab": {
     "base_uri": "https://localhost:8080/"
    },
    "id": "tI1Z7aMu9yWN",
    "outputId": "a53325d3-104e-4e85-f601-e2149bb73978"
   },
   "outputs": [
    {
     "data": {
      "text/plain": [
       "device(type='cuda', index=0)"
      ]
     },
     "execution_count": 2,
     "metadata": {},
     "output_type": "execute_result"
    }
   ],
   "source": [
    "import torch\n",
    "USE_CUDA = torch.cuda.is_available()\n",
    "device = torch.device('cuda:0') if USE_CUDA else torch.device('cpu')\n",
    "device"
   ]
  },
  {
   "cell_type": "code",
   "execution_count": null,
   "metadata": {
    "id": "ilTqPKKX923g"
   },
   "outputs": [],
   "source": [
    "import os\n",
    "os.chdir(\"drive/My Drive/NLP_projekt\")"
   ]
  },
  {
   "cell_type": "code",
   "execution_count": null,
   "metadata": {
    "id": "IFyPH185IOwL"
   },
   "outputs": [],
   "source": [
    "import pandas as pd\n",
    "df = pd.read_csv('recipes_dataset_1000.csv')"
   ]
  },
  {
   "cell_type": "code",
   "execution_count": null,
   "metadata": {
    "colab": {
     "base_uri": "https://localhost:8080/"
    },
    "id": "YRBKVOgL99BR",
    "outputId": "bbbcf106-549a-4208-8e83-6e70ef46e84e"
   },
   "outputs": [
    {
     "data": {
      "text/plain": [
       "(1000, 6)"
      ]
     },
     "execution_count": 5,
     "metadata": {},
     "output_type": "execute_result"
    }
   ],
   "source": [
    "df.shape"
   ]
  },
  {
   "cell_type": "code",
   "execution_count": null,
   "metadata": {
    "colab": {
     "base_uri": "https://localhost:8080/",
     "height": 832
    },
    "id": "DqAv0NG87XEl",
    "outputId": "8747fcfb-c8ce-4121-d7d9-aac2b3e47ce9"
   },
   "outputs": [
    {
     "data": {
      "text/html": [
       "\n",
       "  <div id=\"df-8cfbcd6d-1e17-4206-aa63-cf36fc1af2a1\">\n",
       "    <div class=\"colab-df-container\">\n",
       "      <div>\n",
       "<style scoped>\n",
       "    .dataframe tbody tr th:only-of-type {\n",
       "        vertical-align: middle;\n",
       "    }\n",
       "\n",
       "    .dataframe tbody tr th {\n",
       "        vertical-align: top;\n",
       "    }\n",
       "\n",
       "    .dataframe thead th {\n",
       "        text-align: right;\n",
       "    }\n",
       "</style>\n",
       "<table border=\"1\" class=\"dataframe\">\n",
       "  <thead>\n",
       "    <tr style=\"text-align: right;\">\n",
       "      <th></th>\n",
       "      <th>Unnamed: 0.1</th>\n",
       "      <th>Unnamed: 0</th>\n",
       "      <th>title</th>\n",
       "      <th>ingredients</th>\n",
       "      <th>directions</th>\n",
       "      <th>NER</th>\n",
       "    </tr>\n",
       "  </thead>\n",
       "  <tbody>\n",
       "    <tr>\n",
       "      <th>0</th>\n",
       "      <td>0</td>\n",
       "      <td>2150000</td>\n",
       "      <td>Michigan Sauce Southern Style</td>\n",
       "      <td>[\"2 lbs extra lean ground chuck (may substitut...</td>\n",
       "      <td>[\"Put all ingredients into a pot and mix toget...</td>\n",
       "      <td>[\"extra lean ground chuck\", \"ketchup\", \"onion\"...</td>\n",
       "    </tr>\n",
       "    <tr>\n",
       "      <th>1</th>\n",
       "      <td>1</td>\n",
       "      <td>2150001</td>\n",
       "      <td>Alsatian Stuffed Chicken Breasts</td>\n",
       "      <td>[\"1 lb chicken breast\", \"18 lb deli ham, cut i...</td>\n",
       "      <td>[\"Saute ham, shallots and mushrooms together i...</td>\n",
       "      <td>[\"chicken breast\", \"deli ham\", \"shallots\", \"ba...</td>\n",
       "    </tr>\n",
       "    <tr>\n",
       "      <th>2</th>\n",
       "      <td>2</td>\n",
       "      <td>2150002</td>\n",
       "      <td>Potato Bake</td>\n",
       "      <td>[\"4 cups mashed potatoes\", \"12 cup sauteed mus...</td>\n",
       "      <td>[\"Blend ingredients together, keeping some of ...</td>\n",
       "      <td>[\"potatoes\", \"mushroom\", \"onion\", \"paprika\", \"...</td>\n",
       "    </tr>\n",
       "    <tr>\n",
       "      <th>3</th>\n",
       "      <td>3</td>\n",
       "      <td>2150003</td>\n",
       "      <td>Fettuccine With Summer Vegetables and Goat Cheese</td>\n",
       "      <td>[\"Kosher salt\", \"1 large yellow tomato, seeded...</td>\n",
       "      <td>[\"Bring a large pot of salted water to a boil....</td>\n",
       "      <td>[\"Kosher salt\", \"yellow tomato\", \"yellow squas...</td>\n",
       "    </tr>\n",
       "    <tr>\n",
       "      <th>4</th>\n",
       "      <td>4</td>\n",
       "      <td>2150004</td>\n",
       "      <td>Don Pablo's Fresh Salsa</td>\n",
       "      <td>[\"1 2/3 can diced tomatoes\", \"1 medium red or ...</td>\n",
       "      <td>[\"Place tomatoes, onions, tomato paste, water,...</td>\n",
       "      <td>[\"tomatoes\", \"red\", \"tomato paste\", \"water\", \"...</td>\n",
       "    </tr>\n",
       "    <tr>\n",
       "      <th>...</th>\n",
       "      <td>...</td>\n",
       "      <td>...</td>\n",
       "      <td>...</td>\n",
       "      <td>...</td>\n",
       "      <td>...</td>\n",
       "      <td>...</td>\n",
       "    </tr>\n",
       "    <tr>\n",
       "      <th>995</th>\n",
       "      <td>995</td>\n",
       "      <td>2150995</td>\n",
       "      <td>How to Roast a Pumpkin and Make Puree 101</td>\n",
       "      <td>[\"1 sugar pumpkin (2-4 pounds, or as many pump...</td>\n",
       "      <td>[\"Roasting 101:.\", \"Preheat the oven to 350F a...</td>\n",
       "      <td>[\"sugar\", \"oil\"]</td>\n",
       "    </tr>\n",
       "    <tr>\n",
       "      <th>996</th>\n",
       "      <td>996</td>\n",
       "      <td>2150996</td>\n",
       "      <td>Turkey Breast \"Porchetta\"</td>\n",
       "      <td>[\"2 teaspoons fennel seed\", \"2 teaspoons orang...</td>\n",
       "      <td>[\"For the porchetta: The day before roasting, ...</td>\n",
       "      <td>[\"fennel seed\", \"orange zest\", \"kosher salt\", ...</td>\n",
       "    </tr>\n",
       "    <tr>\n",
       "      <th>997</th>\n",
       "      <td>997</td>\n",
       "      <td>2150997</td>\n",
       "      <td>Onion, Sage and Mozzarella Focaccia</td>\n",
       "      <td>[\"1 each Focaccia Dough, prepared (click to vi...</td>\n",
       "      <td>[\"Preheat the oven to 450 degrees.\", \"Once the...</td>\n",
       "      <td>[\"Focaccia\", \"mozzarella cheese\", \"onions\", \"o...</td>\n",
       "    </tr>\n",
       "    <tr>\n",
       "      <th>998</th>\n",
       "      <td>998</td>\n",
       "      <td>2150998</td>\n",
       "      <td>Pumpkin Pear Waffles</td>\n",
       "      <td>[\"1 cup flour, whole-wheat pastry\", \"1 12 teas...</td>\n",
       "      <td>[\"Mix together the flour, baking powder, cinna...</td>\n",
       "      <td>[\"flour\", \"baking powder\", \"cinnamon\", \"nutmeg...</td>\n",
       "    </tr>\n",
       "    <tr>\n",
       "      <th>999</th>\n",
       "      <td>999</td>\n",
       "      <td>2150999</td>\n",
       "      <td>White Chocolate Rum and Raisin Cheesecake</td>\n",
       "      <td>[\"7 oz. digestive biscuits\", \"2-3/4 oz. butter...</td>\n",
       "      <td>[\"Pre-heat oven to 180C.\", \"(350F.).\", \"Blend ...</td>\n",
       "      <td>[\"digestive biscuits\", \"butter\", \"dark raisins...</td>\n",
       "    </tr>\n",
       "  </tbody>\n",
       "</table>\n",
       "<p>1000 rows × 6 columns</p>\n",
       "</div>\n",
       "      <button class=\"colab-df-convert\" onclick=\"convertToInteractive('df-8cfbcd6d-1e17-4206-aa63-cf36fc1af2a1')\"\n",
       "              title=\"Convert this dataframe to an interactive table.\"\n",
       "              style=\"display:none;\">\n",
       "        \n",
       "  <svg xmlns=\"http://www.w3.org/2000/svg\" height=\"24px\"viewBox=\"0 0 24 24\"\n",
       "       width=\"24px\">\n",
       "    <path d=\"M0 0h24v24H0V0z\" fill=\"none\"/>\n",
       "    <path d=\"M18.56 5.44l.94 2.06.94-2.06 2.06-.94-2.06-.94-.94-2.06-.94 2.06-2.06.94zm-11 1L8.5 8.5l.94-2.06 2.06-.94-2.06-.94L8.5 2.5l-.94 2.06-2.06.94zm10 10l.94 2.06.94-2.06 2.06-.94-2.06-.94-.94-2.06-.94 2.06-2.06.94z\"/><path d=\"M17.41 7.96l-1.37-1.37c-.4-.4-.92-.59-1.43-.59-.52 0-1.04.2-1.43.59L10.3 9.45l-7.72 7.72c-.78.78-.78 2.05 0 2.83L4 21.41c.39.39.9.59 1.41.59.51 0 1.02-.2 1.41-.59l7.78-7.78 2.81-2.81c.8-.78.8-2.07 0-2.86zM5.41 20L4 18.59l7.72-7.72 1.47 1.35L5.41 20z\"/>\n",
       "  </svg>\n",
       "      </button>\n",
       "      \n",
       "  <style>\n",
       "    .colab-df-container {\n",
       "      display:flex;\n",
       "      flex-wrap:wrap;\n",
       "      gap: 12px;\n",
       "    }\n",
       "\n",
       "    .colab-df-convert {\n",
       "      background-color: #E8F0FE;\n",
       "      border: none;\n",
       "      border-radius: 50%;\n",
       "      cursor: pointer;\n",
       "      display: none;\n",
       "      fill: #1967D2;\n",
       "      height: 32px;\n",
       "      padding: 0 0 0 0;\n",
       "      width: 32px;\n",
       "    }\n",
       "\n",
       "    .colab-df-convert:hover {\n",
       "      background-color: #E2EBFA;\n",
       "      box-shadow: 0px 1px 2px rgba(60, 64, 67, 0.3), 0px 1px 3px 1px rgba(60, 64, 67, 0.15);\n",
       "      fill: #174EA6;\n",
       "    }\n",
       "\n",
       "    [theme=dark] .colab-df-convert {\n",
       "      background-color: #3B4455;\n",
       "      fill: #D2E3FC;\n",
       "    }\n",
       "\n",
       "    [theme=dark] .colab-df-convert:hover {\n",
       "      background-color: #434B5C;\n",
       "      box-shadow: 0px 1px 3px 1px rgba(0, 0, 0, 0.15);\n",
       "      filter: drop-shadow(0px 1px 2px rgba(0, 0, 0, 0.3));\n",
       "      fill: #FFFFFF;\n",
       "    }\n",
       "  </style>\n",
       "\n",
       "      <script>\n",
       "        const buttonEl =\n",
       "          document.querySelector('#df-8cfbcd6d-1e17-4206-aa63-cf36fc1af2a1 button.colab-df-convert');\n",
       "        buttonEl.style.display =\n",
       "          google.colab.kernel.accessAllowed ? 'block' : 'none';\n",
       "\n",
       "        async function convertToInteractive(key) {\n",
       "          const element = document.querySelector('#df-8cfbcd6d-1e17-4206-aa63-cf36fc1af2a1');\n",
       "          const dataTable =\n",
       "            await google.colab.kernel.invokeFunction('convertToInteractive',\n",
       "                                                     [key], {});\n",
       "          if (!dataTable) return;\n",
       "\n",
       "          const docLinkHtml = 'Like what you see? Visit the ' +\n",
       "            '<a target=\"_blank\" href=https://colab.research.google.com/notebooks/data_table.ipynb>data table notebook</a>'\n",
       "            + ' to learn more about interactive tables.';\n",
       "          element.innerHTML = '';\n",
       "          dataTable['output_type'] = 'display_data';\n",
       "          await google.colab.output.renderOutput(dataTable, element);\n",
       "          const docLink = document.createElement('div');\n",
       "          docLink.innerHTML = docLinkHtml;\n",
       "          element.appendChild(docLink);\n",
       "        }\n",
       "      </script>\n",
       "    </div>\n",
       "  </div>\n",
       "  "
      ],
      "text/plain": [
       "     Unnamed: 0.1  Unnamed: 0  \\\n",
       "0               0     2150000   \n",
       "1               1     2150001   \n",
       "2               2     2150002   \n",
       "3               3     2150003   \n",
       "4               4     2150004   \n",
       "..            ...         ...   \n",
       "995           995     2150995   \n",
       "996           996     2150996   \n",
       "997           997     2150997   \n",
       "998           998     2150998   \n",
       "999           999     2150999   \n",
       "\n",
       "                                                 title  \\\n",
       "0                        Michigan Sauce Southern Style   \n",
       "1                     Alsatian Stuffed Chicken Breasts   \n",
       "2                                          Potato Bake   \n",
       "3    Fettuccine With Summer Vegetables and Goat Cheese   \n",
       "4                              Don Pablo's Fresh Salsa   \n",
       "..                                                 ...   \n",
       "995          How to Roast a Pumpkin and Make Puree 101   \n",
       "996                          Turkey Breast \"Porchetta\"   \n",
       "997                Onion, Sage and Mozzarella Focaccia   \n",
       "998                               Pumpkin Pear Waffles   \n",
       "999          White Chocolate Rum and Raisin Cheesecake   \n",
       "\n",
       "                                           ingredients  \\\n",
       "0    [\"2 lbs extra lean ground chuck (may substitut...   \n",
       "1    [\"1 lb chicken breast\", \"18 lb deli ham, cut i...   \n",
       "2    [\"4 cups mashed potatoes\", \"12 cup sauteed mus...   \n",
       "3    [\"Kosher salt\", \"1 large yellow tomato, seeded...   \n",
       "4    [\"1 2/3 can diced tomatoes\", \"1 medium red or ...   \n",
       "..                                                 ...   \n",
       "995  [\"1 sugar pumpkin (2-4 pounds, or as many pump...   \n",
       "996  [\"2 teaspoons fennel seed\", \"2 teaspoons orang...   \n",
       "997  [\"1 each Focaccia Dough, prepared (click to vi...   \n",
       "998  [\"1 cup flour, whole-wheat pastry\", \"1 12 teas...   \n",
       "999  [\"7 oz. digestive biscuits\", \"2-3/4 oz. butter...   \n",
       "\n",
       "                                            directions  \\\n",
       "0    [\"Put all ingredients into a pot and mix toget...   \n",
       "1    [\"Saute ham, shallots and mushrooms together i...   \n",
       "2    [\"Blend ingredients together, keeping some of ...   \n",
       "3    [\"Bring a large pot of salted water to a boil....   \n",
       "4    [\"Place tomatoes, onions, tomato paste, water,...   \n",
       "..                                                 ...   \n",
       "995  [\"Roasting 101:.\", \"Preheat the oven to 350F a...   \n",
       "996  [\"For the porchetta: The day before roasting, ...   \n",
       "997  [\"Preheat the oven to 450 degrees.\", \"Once the...   \n",
       "998  [\"Mix together the flour, baking powder, cinna...   \n",
       "999  [\"Pre-heat oven to 180C.\", \"(350F.).\", \"Blend ...   \n",
       "\n",
       "                                                   NER  \n",
       "0    [\"extra lean ground chuck\", \"ketchup\", \"onion\"...  \n",
       "1    [\"chicken breast\", \"deli ham\", \"shallots\", \"ba...  \n",
       "2    [\"potatoes\", \"mushroom\", \"onion\", \"paprika\", \"...  \n",
       "3    [\"Kosher salt\", \"yellow tomato\", \"yellow squas...  \n",
       "4    [\"tomatoes\", \"red\", \"tomato paste\", \"water\", \"...  \n",
       "..                                                 ...  \n",
       "995                                   [\"sugar\", \"oil\"]  \n",
       "996  [\"fennel seed\", \"orange zest\", \"kosher salt\", ...  \n",
       "997  [\"Focaccia\", \"mozzarella cheese\", \"onions\", \"o...  \n",
       "998  [\"flour\", \"baking powder\", \"cinnamon\", \"nutmeg...  \n",
       "999  [\"digestive biscuits\", \"butter\", \"dark raisins...  \n",
       "\n",
       "[1000 rows x 6 columns]"
      ]
     },
     "execution_count": 6,
     "metadata": {},
     "output_type": "execute_result"
    }
   ],
   "source": [
    "df"
   ]
  },
  {
   "cell_type": "code",
   "execution_count": null,
   "metadata": {
    "id": "UOP6psOc-Ah7"
   },
   "outputs": [],
   "source": [
    "import re"
   ]
  },
  {
   "cell_type": "code",
   "execution_count": null,
   "metadata": {
    "colab": {
     "base_uri": "https://localhost:8080/"
    },
    "id": "joX9Ry36SJck",
    "outputId": "bb4fdee2-0085-4dea-cdd8-3c0f33b72cfc"
   },
   "outputs": [
    {
     "name": "stderr",
     "output_type": "stream",
     "text": [
      "[nltk_data] Downloading package stopwords to /root/nltk_data...\n",
      "[nltk_data]   Unzipping corpora/stopwords.zip.\n"
     ]
    }
   ],
   "source": [
    "import nltk\n",
    "from nltk.corpus import stopwords\n",
    "from nltk.tokenize import word_tokenize\n",
    "\n",
    "nltk.download('stopwords')\n",
    "stop_words = set(stopwords.words('english'))"
   ]
  },
  {
   "cell_type": "code",
   "execution_count": null,
   "metadata": {
    "colab": {
     "base_uri": "https://localhost:8080/"
    },
    "id": "FKK_Urb2Vwaj",
    "outputId": "942b3311-46f8-470c-de65-1a4f93c2de92"
   },
   "outputs": [
    {
     "name": "stderr",
     "output_type": "stream",
     "text": [
      "[nltk_data] Downloading package punkt to /root/nltk_data...\n",
      "[nltk_data]   Unzipping tokenizers/punkt.zip.\n"
     ]
    },
    {
     "data": {
      "text/plain": [
       "True"
      ]
     },
     "execution_count": 9,
     "metadata": {},
     "output_type": "execute_result"
    }
   ],
   "source": [
    "nltk.download('punkt')"
   ]
  },
  {
   "cell_type": "code",
   "execution_count": null,
   "metadata": {
    "id": "5jW2Ktw0-BSn"
   },
   "outputs": [],
   "source": [
    "def preprocess_function(line):\n",
    "  l1 = line.lstrip('[\"').rstrip('\"]')\n",
    "  l2 = l1.split('.\", \"')\n",
    "  dir = []\n",
    "  for r in l2:\n",
    "    new_string = re.sub(r'[^\\w\\s]', '', r)\n",
    "    r = new_string\n",
    "    dir.append(r)\n",
    "\n",
    "    dir2 = []\n",
    "    for sent in dir:\n",
    "      #print(sent)\n",
    "      word_tokens = word_tokenize(sent)\n",
    "      filtered_sentence = [w for w in word_tokens if not w.lower() in stop_words]\n",
    "\n",
    "      filtered_sentence = []\n",
    "\n",
    "      for w in word_tokens:\n",
    "          if w not in stop_words:\n",
    "              filtered_sentence.append(w)\n",
    "\n",
    "      linee = ' '.join(str(e) for e in filtered_sentence)\n",
    "      dir2.append(linee)\n",
    "  #print(dir2)\n",
    "\n",
    "  return dir2"
   ]
  },
  {
   "cell_type": "code",
   "execution_count": null,
   "metadata": {
    "id": "YpkbZop_-BUp"
   },
   "outputs": [],
   "source": [
    "def preprocess_function_ing(line):\n",
    "  l1 = line.lstrip('[\"').rstrip('\"]')\n",
    "  l2 = l1.split('\", \"')\n",
    "  dir = []\n",
    "  for r in l2:\n",
    "    new_string = re.sub(r'[^\\w\\s]', '', r)\n",
    "    r = new_string\n",
    "    dir.append(r)\n",
    "\n",
    "    dir2 = []\n",
    "    for sent in dir:\n",
    "      #print(sent)\n",
    "      word_tokens = word_tokenize(sent)\n",
    "      filtered_sentence = [w for w in word_tokens if not w.lower() in stop_words]\n",
    "\n",
    "      filtered_sentence = []\n",
    "\n",
    "      for w in word_tokens:\n",
    "          if w not in stop_words:\n",
    "              filtered_sentence.append(w)\n",
    "\n",
    "      linee = ' '.join(str(e) for e in filtered_sentence)\n",
    "      dir2.append(linee)\n",
    "  #print(dir2)\n",
    "\n",
    "\n",
    "\n",
    "  return dir2"
   ]
  },
  {
   "cell_type": "code",
   "execution_count": null,
   "metadata": {
    "id": "_nVEaDXj-Ppk"
   },
   "outputs": [],
   "source": [
    "result = []\n",
    "recipe=[]\n",
    "\n",
    "for index, row in df.iterrows():\n",
    "  processed_title = row[\"title\"]\n",
    "  processed_ingredients = preprocess_function_ing(row[\"NER\"])\n",
    "  processed_directions = preprocess_function(row[\"directions\"])\n",
    "\n",
    "  recipe = \"name: \" + processed_title + \"\\ndirections: \" + ('. '.join(processed_directions)) + \"\\ningredients: \" + (', '.join(processed_ingredients))\n",
    "\n",
    "  result.append(recipe)"
   ]
  },
  {
   "cell_type": "code",
   "execution_count": null,
   "metadata": {
    "colab": {
     "base_uri": "https://localhost:8080/"
    },
    "id": "kOc4eEqIZp_E",
    "outputId": "bb3419eb-9224-430a-eb3c-1de608e2645e"
   },
   "outputs": [
    {
     "data": {
      "text/plain": [
       "['name: Michigan Sauce Southern Style\\ndirections: Put ingredients pot mix together well cooks medium heat. The meat ketchup mixed prior cooking prevents meat clumping gives best chili texture. This also cooked crock pot\\ningredients: extra lean ground chuck, ketchup, onion, garlic, cumin, chili powder, cayenne pepper, salt',\n",
       " 'name: Alsatian Stuffed Chicken Breasts\\ndirections: Saute ham shallots mushrooms together oil. Slit pocket chicken breast. Divide ham mixture evenly among breasts. Bake 375 covered dish 25 minutes cooked. Remove cover top chicken shredded cheese. Broil cheese bubbles browns 5 minutes\\ningredients: chicken breast, deli ham, shallots, baby portabella mushrooms, olive oil, shredded gruyere',\n",
       " 'name: Potato Bake\\ndirections: Blend ingredients together keeping cheddar aside. Pour lightly oiled baking dish sprinkle top remaining cheese. Bake hot 30 minutes 350 degrees F. To brown cheese broil minutes end cooking\\ningredients: potatoes, mushroom, onion, paprika, mustard powder, basil, garlic, yogurt, egg, cheddar cheese']"
      ]
     },
     "execution_count": 13,
     "metadata": {},
     "output_type": "execute_result"
    }
   ],
   "source": [
    "result[:3]"
   ]
  },
  {
   "cell_type": "code",
   "execution_count": null,
   "metadata": {
    "colab": {
     "base_uri": "https://localhost:8080/"
    },
    "id": "SsykuXJA4Hm2",
    "outputId": "3a7fb764-6912-45ca-95f6-665f9a97edc4"
   },
   "outputs": [
    {
     "data": {
      "text/plain": [
       "1000"
      ]
     },
     "execution_count": 14,
     "metadata": {},
     "output_type": "execute_result"
    }
   ],
   "source": [
    "len(result)"
   ]
  },
  {
   "cell_type": "code",
   "execution_count": null,
   "metadata": {
    "id": "Y2cXcaiHKQYV"
   },
   "outputs": [],
   "source": [
    "#Sort the list of data\n",
    "result.sort(key = len)"
   ]
  },
  {
   "cell_type": "code",
   "execution_count": null,
   "metadata": {
    "id": "mUqA7zmf5R8B"
   },
   "outputs": [],
   "source": [
    "result = result[:100]"
   ]
  },
  {
   "cell_type": "code",
   "execution_count": null,
   "metadata": {
    "colab": {
     "base_uri": "https://localhost:8080/"
    },
    "id": "_DNm9BE6-s9B",
    "outputId": "dc6cb762-9c91-4a19-ed0e-dfea0b4daaa0"
   },
   "outputs": [
    {
     "name": "stdout",
     "output_type": "stream",
     "text": [
      "1\n",
      "92\n",
      "2\n",
      "109\n",
      "3\n",
      "112\n",
      "4\n",
      "117\n",
      "5\n",
      "120\n",
      "6\n",
      "129\n",
      "7\n",
      "131\n",
      "8\n",
      "138\n",
      "9\n",
      "140\n",
      "11\n",
      "142\n",
      "12\n",
      "143\n",
      "14\n",
      "146\n",
      "15\n",
      "150\n",
      "17\n",
      "152\n",
      "18\n",
      "153\n",
      "20\n",
      "158\n",
      "21\n",
      "160\n",
      "22\n",
      "161\n",
      "23\n",
      "162\n",
      "25\n",
      "165\n",
      "26\n",
      "166\n",
      "27\n",
      "167\n",
      "28\n",
      "169\n",
      "29\n",
      "171\n",
      "30\n",
      "173\n",
      "31\n",
      "174\n",
      "32\n",
      "175\n",
      "33\n",
      "176\n",
      "34\n",
      "177\n",
      "36\n",
      "178\n",
      "38\n",
      "180\n",
      "41\n",
      "183\n",
      "42\n",
      "184\n",
      "43\n",
      "185\n",
      "44\n",
      "187\n",
      "45\n",
      "188\n",
      "46\n",
      "189\n",
      "47\n",
      "190\n",
      "48\n",
      "191\n",
      "49\n",
      "194\n",
      "50\n",
      "196\n",
      "51\n",
      "197\n",
      "52\n",
      "198\n",
      "53\n",
      "199\n",
      "54\n",
      "200\n",
      "55\n",
      "202\n",
      "56\n",
      "208\n",
      "59\n",
      "209\n",
      "60\n",
      "210\n",
      "61\n",
      "213\n",
      "62\n",
      "215\n",
      "63\n",
      "216\n",
      "65\n",
      "219\n",
      "68\n",
      "220\n",
      "70\n",
      "221\n",
      "71\n",
      "223\n",
      "73\n",
      "224\n",
      "74\n",
      "228\n",
      "75\n",
      "231\n",
      "76\n",
      "232\n",
      "80\n",
      "235\n",
      "81\n",
      "236\n",
      "82\n",
      "237\n",
      "83\n",
      "238\n",
      "84\n",
      "239\n",
      "85\n",
      "241\n",
      "87\n",
      "243\n",
      "91\n",
      "245\n",
      "92\n",
      "246\n",
      "93\n",
      "247\n",
      "96\n",
      "248\n",
      "97\n",
      "250\n",
      "99\n",
      "253\n",
      "253\n"
     ]
    }
   ],
   "source": [
    "max = len(result[0])\n",
    "for i in range(len(result)):\n",
    "  if len(result[i]) > max:\n",
    "    print(i)\n",
    "    print(len(result[i]))\n",
    "    max = len(result[i])\n",
    "print(max)"
   ]
  },
  {
   "cell_type": "code",
   "execution_count": 1,
   "metadata": {
    "colab": {
     "base_uri": "https://localhost:8080/"
    },
    "id": "26vTt46r-6QG",
    "outputId": "6ad1c678-8a02-4c95-b644-ec2a68423f9f"
   },
   "outputs": [
    {
     "name": "stdout",
     "output_type": "stream",
     "text": [
      "Collecting transformers[torch]\n",
      "  Downloading transformers-4.30.2-py3-none-any.whl (7.2 MB)\n",
      "\u001b[2K     \u001b[90m━━━━━━━━━━━━━━━━━━━━━━━━━━━━━━━━━━━━━━━━\u001b[0m \u001b[32m7.2/7.2 MB\u001b[0m \u001b[31m47.0 MB/s\u001b[0m eta \u001b[36m0:00:00\u001b[0m\n",
      "\u001b[?25hRequirement already satisfied: filelock in /usr/local/lib/python3.10/dist-packages (from transformers[torch]) (3.12.2)\n",
      "Collecting huggingface-hub<1.0,>=0.14.1 (from transformers[torch])\n",
      "  Downloading huggingface_hub-0.15.1-py3-none-any.whl (236 kB)\n",
      "\u001b[2K     \u001b[90m━━━━━━━━━━━━━━━━━━━━━━━━━━━━━━━━━━━━━━\u001b[0m \u001b[32m236.8/236.8 kB\u001b[0m \u001b[31m23.4 MB/s\u001b[0m eta \u001b[36m0:00:00\u001b[0m\n",
      "\u001b[?25hRequirement already satisfied: numpy>=1.17 in /usr/local/lib/python3.10/dist-packages (from transformers[torch]) (1.22.4)\n",
      "Requirement already satisfied: packaging>=20.0 in /usr/local/lib/python3.10/dist-packages (from transformers[torch]) (23.1)\n",
      "Requirement already satisfied: pyyaml>=5.1 in /usr/local/lib/python3.10/dist-packages (from transformers[torch]) (6.0)\n",
      "Requirement already satisfied: regex!=2019.12.17 in /usr/local/lib/python3.10/dist-packages (from transformers[torch]) (2022.10.31)\n",
      "Requirement already satisfied: requests in /usr/local/lib/python3.10/dist-packages (from transformers[torch]) (2.27.1)\n",
      "Collecting tokenizers!=0.11.3,<0.14,>=0.11.1 (from transformers[torch])\n",
      "  Downloading tokenizers-0.13.3-cp310-cp310-manylinux_2_17_x86_64.manylinux2014_x86_64.whl (7.8 MB)\n",
      "\u001b[2K     \u001b[90m━━━━━━━━━━━━━━━━━━━━━━━━━━━━━━━━━━━━━━━━\u001b[0m \u001b[32m7.8/7.8 MB\u001b[0m \u001b[31m67.5 MB/s\u001b[0m eta \u001b[36m0:00:00\u001b[0m\n",
      "\u001b[?25hCollecting safetensors>=0.3.1 (from transformers[torch])\n",
      "  Downloading safetensors-0.3.1-cp310-cp310-manylinux_2_17_x86_64.manylinux2014_x86_64.whl (1.3 MB)\n",
      "\u001b[2K     \u001b[90m━━━━━━━━━━━━━━━━━━━━━━━━━━━━━━━━━━━━━━━━\u001b[0m \u001b[32m1.3/1.3 MB\u001b[0m \u001b[31m72.7 MB/s\u001b[0m eta \u001b[36m0:00:00\u001b[0m\n",
      "\u001b[?25hRequirement already satisfied: tqdm>=4.27 in /usr/local/lib/python3.10/dist-packages (from transformers[torch]) (4.65.0)\n",
      "Requirement already satisfied: torch!=1.12.0,>=1.9 in /usr/local/lib/python3.10/dist-packages (from transformers[torch]) (2.0.1+cu118)\n",
      "Collecting accelerate>=0.20.2 (from transformers[torch])\n",
      "  Downloading accelerate-0.20.3-py3-none-any.whl (227 kB)\n",
      "\u001b[2K     \u001b[90m━━━━━━━━━━━━━━━━━━━━━━━━━━━━━━━━━━━━━━\u001b[0m \u001b[32m227.6/227.6 kB\u001b[0m \u001b[31m16.0 MB/s\u001b[0m eta \u001b[36m0:00:00\u001b[0m\n",
      "\u001b[?25hRequirement already satisfied: psutil in /usr/local/lib/python3.10/dist-packages (from accelerate>=0.20.2->transformers[torch]) (5.9.5)\n",
      "Requirement already satisfied: fsspec in /usr/local/lib/python3.10/dist-packages (from huggingface-hub<1.0,>=0.14.1->transformers[torch]) (2023.6.0)\n",
      "Requirement already satisfied: typing-extensions>=3.7.4.3 in /usr/local/lib/python3.10/dist-packages (from huggingface-hub<1.0,>=0.14.1->transformers[torch]) (4.6.3)\n",
      "Requirement already satisfied: sympy in /usr/local/lib/python3.10/dist-packages (from torch!=1.12.0,>=1.9->transformers[torch]) (1.11.1)\n",
      "Requirement already satisfied: networkx in /usr/local/lib/python3.10/dist-packages (from torch!=1.12.0,>=1.9->transformers[torch]) (3.1)\n",
      "Requirement already satisfied: jinja2 in /usr/local/lib/python3.10/dist-packages (from torch!=1.12.0,>=1.9->transformers[torch]) (3.1.2)\n",
      "Requirement already satisfied: triton==2.0.0 in /usr/local/lib/python3.10/dist-packages (from torch!=1.12.0,>=1.9->transformers[torch]) (2.0.0)\n",
      "Requirement already satisfied: cmake in /usr/local/lib/python3.10/dist-packages (from triton==2.0.0->torch!=1.12.0,>=1.9->transformers[torch]) (3.25.2)\n",
      "Requirement already satisfied: lit in /usr/local/lib/python3.10/dist-packages (from triton==2.0.0->torch!=1.12.0,>=1.9->transformers[torch]) (16.0.6)\n",
      "Requirement already satisfied: urllib3<1.27,>=1.21.1 in /usr/local/lib/python3.10/dist-packages (from requests->transformers[torch]) (1.26.16)\n",
      "Requirement already satisfied: certifi>=2017.4.17 in /usr/local/lib/python3.10/dist-packages (from requests->transformers[torch]) (2023.5.7)\n",
      "Requirement already satisfied: charset-normalizer~=2.0.0 in /usr/local/lib/python3.10/dist-packages (from requests->transformers[torch]) (2.0.12)\n",
      "Requirement already satisfied: idna<4,>=2.5 in /usr/local/lib/python3.10/dist-packages (from requests->transformers[torch]) (3.4)\n",
      "Requirement already satisfied: MarkupSafe>=2.0 in /usr/local/lib/python3.10/dist-packages (from jinja2->torch!=1.12.0,>=1.9->transformers[torch]) (2.1.3)\n",
      "Requirement already satisfied: mpmath>=0.19 in /usr/local/lib/python3.10/dist-packages (from sympy->torch!=1.12.0,>=1.9->transformers[torch]) (1.3.0)\n",
      "Installing collected packages: tokenizers, safetensors, huggingface-hub, transformers, accelerate\n",
      "Successfully installed accelerate-0.20.3 huggingface-hub-0.15.1 safetensors-0.3.1 tokenizers-0.13.3 transformers-4.30.2\n"
     ]
    }
   ],
   "source": [
    "pip install transformers[torch]"
   ]
  },
  {
   "cell_type": "code",
   "execution_count": null,
   "metadata": {
    "id": "b9Uc_Q3EGwxA"
   },
   "outputs": [],
   "source": [
    "import torch\n",
    "from torch.utils.data import DataLoader, TensorDataset\n",
    "from sklearn.model_selection import train_test_split\n",
    "from transformers import GPT2Tokenizer"
   ]
  },
  {
   "cell_type": "code",
   "execution_count": null,
   "metadata": {
    "colab": {
     "base_uri": "https://localhost:8080/",
     "height": 113,
     "referenced_widgets": [
      "657f3a1292eb4b07926993aa09544463",
      "978c002fd0b740fb88499d1bc5771df9",
      "b94554433c5c424387deae1afcab3dec",
      "183ee11344d44d42b561b9a7c6a93be1",
      "8cb600bd122e46c6995f3cf69aff7268",
      "4869f64a692b4683b18ea4167afc3d1d",
      "c15f221404f74a5fae1a1c4583bfd0f4",
      "40d68f78b4b54d5b8b34411071c20d74",
      "974bd6ae03ea416699ea82d70d38ebcb",
      "ac832085b62c46609759b8b500951e10",
      "f7c0495e1d874393b215b16a8728b912",
      "a3eb66ce9d684eea91e8822d2b4dc2e6",
      "b2688572e0af428296c40f9b44987a0a",
      "f6a06cd0555b4a86b777bc6267d20607",
      "d80c84c1c5684b1784a8d298f2289fe7",
      "53d09e3555b643cba5af3c067872cd49",
      "db41752471c746069ef4d03eafd76f96",
      "35afdc6ce1ea48379c323929745ac580",
      "ce6b714d91fe43d49760ab32d11d705f",
      "e48aba6a940e4a43902f7a4578091e42",
      "6871c4b3dd73454dae49b4e44ddfaaaf",
      "de96412f4c5a4d9eaa72f039e7858312",
      "e9477d438c5d4811ab51dd49d7789865",
      "768b4968116e4303ba385af9d619441d",
      "b12379582c8145008477cee3fe460933",
      "de3d3b8ba98048ec8da4c9532f350f8c",
      "dfe60400f63e4a12b6bc83aa240982d4",
      "a05be7a4ff2349578b804bc783aba04a",
      "1d80a50028264ef2a682f69e1c0c6ce4",
      "934c375316cf486088804c717930cc76",
      "5e89ec2af50f47449d2770e0e560628f",
      "a782157f346542678cda67115665b289",
      "03845586303c41bc8ca53ebddbe9fded"
     ]
    },
    "id": "9diiiEYDGefP",
    "outputId": "3c088d25-36f4-4137-b158-1719c0e4b55e"
   },
   "outputs": [
    {
     "data": {
      "application/vnd.jupyter.widget-view+json": {
       "model_id": "657f3a1292eb4b07926993aa09544463",
       "version_major": 2,
       "version_minor": 0
      },
      "text/plain": [
       "Downloading (…)olve/main/vocab.json:   0%|          | 0.00/1.04M [00:00<?, ?B/s]"
      ]
     },
     "metadata": {},
     "output_type": "display_data"
    },
    {
     "data": {
      "application/vnd.jupyter.widget-view+json": {
       "model_id": "a3eb66ce9d684eea91e8822d2b4dc2e6",
       "version_major": 2,
       "version_minor": 0
      },
      "text/plain": [
       "Downloading (…)olve/main/merges.txt:   0%|          | 0.00/456k [00:00<?, ?B/s]"
      ]
     },
     "metadata": {},
     "output_type": "display_data"
    },
    {
     "data": {
      "application/vnd.jupyter.widget-view+json": {
       "model_id": "e9477d438c5d4811ab51dd49d7789865",
       "version_major": 2,
       "version_minor": 0
      },
      "text/plain": [
       "Downloading (…)lve/main/config.json:   0%|          | 0.00/665 [00:00<?, ?B/s]"
      ]
     },
     "metadata": {},
     "output_type": "display_data"
    }
   ],
   "source": [
    "tokenizer = GPT2Tokenizer.from_pretrained(\"gpt2\")"
   ]
  },
  {
   "cell_type": "code",
   "execution_count": null,
   "metadata": {
    "id": "11-9qh6bFRM7"
   },
   "outputs": [],
   "source": [
    "# Tokenize and encode the text data\n",
    "encoded_data = [tokenizer.encode(text) for text in result]\n",
    "\n",
    "max_sequence_length = 150\n",
    "truncated_sequences = [sequence[:max_sequence_length] for sequence in encoded_data]\n",
    "\n",
    "# Pad the sequences to have equal length\n",
    "padded_data = [sequence + [0] * (max_sequence_length - len(sequence)) for sequence in truncated_sequences]"
   ]
  },
  {
   "cell_type": "code",
   "execution_count": null,
   "metadata": {
    "id": "UHA-MEsNJNRA"
   },
   "outputs": [],
   "source": [
    "dec_data = [tokenizer.decode(text) for text in encoded_data]"
   ]
  },
  {
   "cell_type": "code",
   "execution_count": null,
   "metadata": {
    "colab": {
     "base_uri": "https://localhost:8080/"
    },
    "id": "nRmKD3zcx0bx",
    "outputId": "ac2cef66-8f34-4738-e0ae-121d14c2d6b9"
   },
   "outputs": [
    {
     "name": "stdout",
     "output_type": "stream",
     "text": [
      "name: Amaretto Cooler Recipe\n",
      "directions: Ice rocks\n",
      "ingredients: orange juice, sprite\n",
      "name: Cocoa Dream Cookies Recipe\n",
      "directions: Preheat oven 375\n",
      "ingredients: allpurpose, Nestl\n",
      "name: Banana Milkshake Recipe\n",
      "directions: Blend blender till smooth. Serve\n",
      "ingredients: Banana, milk, Vanilla\n",
      "name: Indulgence\n",
      "directions: Layer following order Dark Cacao Amaretto Amarula\n",
      "ingredients: Cacao, cream liqueur\n",
      "name: Hummus\n",
      "directions: blend\n",
      "ingredients: garbanzo beans, tahini, extra virgin olive oil, lemon juice, garlic, salt\n",
      "name: Pasta Seafood Salad\n",
      "directions: Toss together enjoy\n",
      "ingredients: pasta, frozen peas, red onion, dressing, crabmeat\n",
      "name: Herb Butter Recipe\n",
      "directions: Mix well serve bread\n",
      "ingredients: chives, dill, garlic salt, oregano, parsley flakes, butter\n",
      "name: chicken tacos\n",
      "directions: add together let cook 8 hours. Then serve soft shell joy\n",
      "ingredients: chicken breast, chicken broth\n",
      "name: Curry Vegetable Dip Recipe\n",
      "directions: Mix together chill\n",
      "ingredients: Miracle, horseradish, curry pwdr, vinegar, garlic salt, onion\n",
      "name: The Bellini\n",
      "directions: In champagne flute add peach puree top glass chilled Prosecco\n",
      "ingredients: Italian sparkling wine, peach puree\n",
      "name: Nutty Hot Chocolate\n",
      "directions: Combine ingredients large mug mix well\n",
      "ingredients: chocolate syrup, coconut syrup, almond syrup, milk\n",
      "name: Southwestern Fiesta Topper\n",
      "directions: Top crackers remaining ingredients\n",
      "ingredients: Crackers, Cheddar Cheese, light sour cream, salsa\n",
      "name: Spiced Ketchup Burger Topping\n",
      "directions: Mix ingredients together small bowl. Serve chilled\n",
      "ingredients: ketchup, horseradish, hot sauce\n",
      "name: Lacama (Spice)\n",
      "directions: Mix spices together keep airtight box\n",
      "ingredients: cinnamon, black pepper, curry powder, ginger ground, nutmeg\n",
      "name: Vegan Mocha Cream Sauce\n",
      "directions: Blend ingredients together smooth creamy. Swirl desserts\n",
      "ingredients: tofu, maple syrup, coffee, vanilla\n",
      "name: The Vijay Singh\n",
      "directions: Pour syrup gin Chartreuse lemon juice ice. Stir top tonic\n",
      "ingredients: green tea syrup, gin, Chartreuse, lemon juice\n",
      "name: Berry Smoothies\n",
      "directions: Combine ingredients blender process smooth\n",
      "ingredients: yogurt, nonfat milk, fresh blue berries, banana, chopped ice\n",
      "name: Basic Foccacia\n",
      "directions: Combine ingredients bread machine press Start\n",
      "ingredients: water, sugar, yeast, flour, salt, olive oil, basil, parmes\n",
      "name: Nutella Hot Chocolate\n",
      "directions: Boil milk pot Add Nutella preferred sweetness Stir Nutella blended milk Pour cup serve\n",
      "ingredients: Milk, Nute\n",
      "name: Vegetable-Fruit Platter\n",
      "directions: Arrange fruit vegetables platter. Sprinkle Hunza salt\n",
      "ingredients: tomatoes, cucumber, avocado, pineapple, s\n",
      "name: Arawak Recipe\n",
      "directions: Shake well cracked ice. Strain old fashioned glass filled ice\n",
      "ingredients: Pineapple Juice, Cranberry Juice, Lime Juic\n",
      "name: Blue Chimney Smoke\n",
      "directions: Place ice large wineglass. Add tequila orange juice stir. Float syrup top\n",
      "ingredients: curacao syrup, orange juic\n",
      "name: Cure for Sugar Craving Fudge\n",
      "directions: Mix together smooth. You also mix Natural Peanut Butter. Enjoy\n",
      "ingredients: cocoa, Splenda sugar substi\n",
      "name: Sugar Free Vanilla Chill (South Beach Diet Friendly)\n",
      "directions: Blend frothy\n",
      "ingredients: nonfat plain yogurt, soymilk, vanilla, handful ice cu\n",
      "name: Ranch Ball Recipe\n",
      "directions: Combine Ranch Mix cream cheese bacon bits. Form ball Chill. Serve various types crackers\n",
      "ingredients: cream cheese\n",
      "name: Magnolia's Alcoholic Beverage Recipe\n",
      "directions: Mix ingredients. Pour glasses ice garnish oranges cherries\n",
      "ingredients: orange juice, champagne\n",
      "name: Dreamsicle\n",
      "directions: Combine creme de noyaux orange juice halfandhalf ice cocktail shaker. Shake strain cocktail glass serve\n",
      "ingredients: noya\n",
      "name: Mexican Gin and Tonic\n",
      "directions: Fill highball glass ice. Add gin fresh lime juice. Top glass tonic stir gently. Garnish lime slice\n",
      "ingredients\n",
      "name: Dijon Vinaigrette\n",
      "directions: Combine ingredients eat fruity nutty otherwise delicious salad\n",
      "ingredients: olive oil, balsamic vinegar, mustard, \n",
      "name: Lemon Marinade\n",
      "directions: Mix ingredients together large bowl. Use required\n",
      "ingredients: lemon, lemons, olive oil, thyme, sage, scallions, fres\n",
      "name: Chef's Seasoned Salt\n",
      "directions: Mix ingredients small bowl store shaker\n",
      "ingredients: kosher salt, ground white pepper, garlic, ground sundried \n",
      "name: The Witchs Eye\n",
      "directions: In shaker muddle grapes. Add Pisco strain flute. Top sparkling sake. Garnish frozen whole grape eye\n",
      "ingredients: fres\n",
      "name: Light Sweet Cream Base for Ice Cream\n",
      "directions: In mixing bowl whisk light cream sweetened condensed milk together blended. Makes 1 quart\n",
      "ingre\n",
      "name: Corn Casserole\n",
      "directions: Combine ingredients. Pour greased 9x13 inch dish. Bake 350 degrees 1 hour\n",
      "ingredients: whole kernel corn, corn, corn \n",
      "name: Chili-Parmesan Nut Snack Mix\n",
      "directions: Toss popcorn Parmesan cheese chili powder. Add pretzels nuts mix lightly\n",
      "ingredients: popcorn, Parmesan\n",
      "name: Super Easy Black Bean, Corn, and Zucchini Salsa\n",
      "directions: Mix. Refrigerate. Enjoy\n",
      "ingredients: frozen corn, black beans, zucchini, cilantro, s\n",
      "name: Crock Pot Corn Pudding\n",
      "directions: Combine corn. Pour crock pot. Add corn mix well. Cover cook low 4 hours\n",
      "ingredients: eggs, sugar, salt, peppe\n",
      "name: Golden Topped Eggs Recipe\n",
      "directions: Blend soup lowfat milk. Heat. Top slice toast ham slice poached egg. Pour cheese mix\n",
      "ingredients: Cheddar \n",
      "name: breakfast torilla\n",
      "directions: To updated\n",
      "ingredients: tobasco sauce, butter, ground black pepper, garlic powder, onion powder, white rice, ameri\n",
      "name: Chicken, Pear & Asiago Sandwich\n",
      "directions: Spread bread slices mayo. Fill remaining ingredients\n",
      "ingredients: multigrain bread, Mayonnaise, Chic\n",
      "name: Garlic Flavored Oil\n",
      "directions: Combine ingredients. Put container tight fitting lid store room temperature 6 months\n",
      "ingredients: olive oil, ros\n",
      "name: Corn Crab Cakes\n",
      "directions: Mash together. Fry side well\n",
      "ingredients: crabmeat, egg, corn, hot sauce, lemon juice, mustard, pepper, nonfat sour \n",
      "name: Breakfast Cocktail\n",
      "directions: Combine ingredients pitcher refrigerate serving. Garnish glass slice fresh orange\n",
      "ingredients: freshly squeezed o\n",
      "name: Fruity Popcorn Medley\n",
      "directions: Cut apple peach small chunks. Mix fruit popcorn ad honey mix everything coated add honey needed. Enjoy\n",
      "ingredi\n",
      "name: Cranberry Margaritas\n",
      "directions: Combine ingredients blender blend high. Serve. If blender small highpowered make margaritas 2 batches\n",
      "ingredien\n",
      "name: pork or rib sauce\n",
      "directions: mix ingredients together pour pork ribs bake\n",
      "ingredients: water, worstshire sauce, brown sugar, paprika, ketchup, \n",
      "name: Honey Roasted Chicken Salad\n",
      "directions: Toss salad greens chicken vegetables nuts large bowl. Add dressing mix lightly\n",
      "ingredients: salad greens\n",
      "name: Taco Quarter Pounders\n",
      "directions: Mix together shape 6 patties. Grill fry desired doneness. Serve toasted buns favorite taco toppings side\n",
      "ingre\n",
      "name: Tamale Balls Recipe\n",
      "directions: Combine mix well. Form small balls. Place following sauce 2 hrs\n",
      "ingredients: beef, pork sausage, corn meal, toma\n",
      "name: Cabbage Slaw\n",
      "directions: Combine cabbage tomato green onion cilantro. Use judgment lime juice. Slaw better longer sits\n",
      "ingredients: green cabbag\n"
     ]
    }
   ],
   "source": [
    "for sequence in dec_data[0:50]:\n",
    "  print(sequence[:150])"
   ]
  },
  {
   "cell_type": "code",
   "execution_count": null,
   "metadata": {
    "colab": {
     "base_uri": "https://localhost:8080/"
    },
    "id": "dEC-9vwEHLQn",
    "outputId": "8f3a4466-90fd-4417-f07d-b2a3b5414634"
   },
   "outputs": [
    {
     "data": {
      "text/plain": [
       "torch.Size([100, 150])"
      ]
     },
     "execution_count": 25,
     "metadata": {},
     "output_type": "execute_result"
    }
   ],
   "source": [
    "# Convert the padded sequences to a tensor\n",
    "input_ids = torch.tensor(padded_data)\n",
    "input_ids.shape"
   ]
  },
  {
   "cell_type": "code",
   "execution_count": null,
   "metadata": {
    "id": "JCRRVpGiHLTh"
   },
   "outputs": [],
   "source": [
    "target_ids = input_ids"
   ]
  },
  {
   "cell_type": "code",
   "execution_count": null,
   "metadata": {
    "colab": {
     "base_uri": "https://localhost:8080/"
    },
    "id": "TzpB5FUFIOxs",
    "outputId": "609ce89a-81e3-4050-8199-04506210d805"
   },
   "outputs": [
    {
     "data": {
      "text/plain": [
       "<torch.utils.data.dataset.TensorDataset at 0x7fbaf580e380>"
      ]
     },
     "execution_count": 27,
     "metadata": {},
     "output_type": "execute_result"
    }
   ],
   "source": [
    "# Split the data into training and validation sets\n",
    "train_inputs, val_inputs, train_targets, val_targets = train_test_split(input_ids, target_ids, test_size=0.2, random_state=42)\n",
    "\n",
    "# Create TensorDatasets for training and validation\n",
    "train_dataset = TensorDataset(train_inputs, train_targets)\n",
    "val_dataset = TensorDataset(val_inputs, val_targets)\n",
    "train_dataset"
   ]
  },
  {
   "cell_type": "code",
   "execution_count": null,
   "metadata": {
    "colab": {
     "base_uri": "https://localhost:8080/"
    },
    "id": "Qnpqi6K_KGtm",
    "outputId": "2a71119a-8571-458c-83ba-12990655e206"
   },
   "outputs": [
    {
     "data": {
      "text/plain": [
       "torch.Size([80, 150])"
      ]
     },
     "execution_count": 28,
     "metadata": {},
     "output_type": "execute_result"
    }
   ],
   "source": [
    "train_inputs.shape"
   ]
  },
  {
   "cell_type": "code",
   "execution_count": null,
   "metadata": {
    "colab": {
     "base_uri": "https://localhost:8080/"
    },
    "id": "kjvW4EsPKLzC",
    "outputId": "1fa18de1-adb4-4c38-d277-dd8342327a8e"
   },
   "outputs": [
    {
     "data": {
      "text/plain": [
       "torch.Size([20, 150])"
      ]
     },
     "execution_count": 29,
     "metadata": {},
     "output_type": "execute_result"
    }
   ],
   "source": [
    "val_inputs.shape"
   ]
  },
  {
   "cell_type": "code",
   "execution_count": null,
   "metadata": {
    "id": "1xbhy-9UIO3j"
   },
   "outputs": [],
   "source": [
    "# Create DataLoaders for training and validation\n",
    "batch_size = 4\n",
    "train_loader = DataLoader(train_dataset, batch_size=batch_size, shuffle=True)\n",
    "val_loader = DataLoader(val_dataset, batch_size=batch_size, shuffle=False)"
   ]
  },
  {
   "cell_type": "code",
   "execution_count": null,
   "metadata": {
    "id": "cVyFCLzBI-lW"
   },
   "outputs": [],
   "source": [
    "from transformers import GPT2LMHeadModel"
   ]
  },
  {
   "cell_type": "code",
   "execution_count": null,
   "metadata": {
    "colab": {
     "base_uri": "https://localhost:8080/",
     "height": 81,
     "referenced_widgets": [
      "8c30ad2d083743958d37e97a780f194b",
      "641938bbb5174a6a82309be29cd2bbed",
      "5e4338990c69477c8ce5a3c0746680bf",
      "403805fc412e47779775800d866fdfd2",
      "bfd3739647da4ec9a798868c86412211",
      "b7d10bb9e35c416da166763e5c3dae4f",
      "45e208e9cc124985aa0fc4cca8a2ebfe",
      "ef6d78b0664c453784a661ae6cb9f5ae",
      "0ad5ae56aaf4451da08c5e75ac46c099",
      "b5eb3849ae3446f3bb8cad782cb18ea1",
      "139205444de24beab78c8c6bced0eee3",
      "676039fec3ed4c97b1fd7d48f9ea8fe9",
      "8909c95fed6f4ae48e05fa02747b277f",
      "d54d5648f5ca43779195fbd427b6c830",
      "8af877ea8edf4cd8acd4ba515746529c",
      "d1bfc5a311284da4a0f048af8d9a1d7d",
      "6b16a6b35334486a9396454aab91fb21",
      "884f15f67d2b4b9c93e2675341fb76af",
      "1f5161eb4e964a1b81fd2d7920baac48",
      "2d19816d17be4f0896464b19239fea97",
      "6b669134ad7a4bb7bdb19ba8b5ede0d8",
      "37321a43855747e39ef45f31981b47ef"
     ]
    },
    "id": "vghRduYTI22r",
    "outputId": "cc51346a-1292-4136-ed97-bf268edaf999"
   },
   "outputs": [
    {
     "data": {
      "application/vnd.jupyter.widget-view+json": {
       "model_id": "8c30ad2d083743958d37e97a780f194b",
       "version_major": 2,
       "version_minor": 0
      },
      "text/plain": [
       "Downloading model.safetensors:   0%|          | 0.00/548M [00:00<?, ?B/s]"
      ]
     },
     "metadata": {},
     "output_type": "display_data"
    },
    {
     "data": {
      "application/vnd.jupyter.widget-view+json": {
       "model_id": "676039fec3ed4c97b1fd7d48f9ea8fe9",
       "version_major": 2,
       "version_minor": 0
      },
      "text/plain": [
       "Downloading (…)neration_config.json:   0%|          | 0.00/124 [00:00<?, ?B/s]"
      ]
     },
     "metadata": {},
     "output_type": "display_data"
    }
   ],
   "source": [
    "# Load the GPT-2 model\n",
    "model = GPT2LMHeadModel.from_pretrained('gpt2')\n",
    "\n",
    "# Define the optimizer\n",
    "optimizer = torch.optim.Adam(model.parameters(), lr=1e-4)"
   ]
  },
  {
   "cell_type": "code",
   "execution_count": null,
   "metadata": {
    "id": "qPg_qZ5d6eMq"
   },
   "outputs": [],
   "source": [
    "def rate(step, model_size, factor, warmup):\n",
    "    if step == 0:\n",
    "        step = 1\n",
    "    return factor * (model_size ** (-0.5) * min(step ** (-0.5), step * warmup ** (-1.5)))\n",
    "\n",
    "num_epochs = 10\n",
    "output_dir = './results'\n",
    "\n",
    "model_size = 117\n",
    "factor = 1.0\n",
    "warmup = 1000"
   ]
  },
  {
   "cell_type": "code",
   "execution_count": null,
   "metadata": {
    "colab": {
     "base_uri": "https://localhost:8080/"
    },
    "id": "892qESEHB-WL",
    "outputId": "1fa9b40b-e4b4-4afe-b531-c956d9f5d793"
   },
   "outputs": [
    {
     "name": "stdout",
     "output_type": "stream",
     "text": [
      "Epoch 1: Validation Loss = 1.0311\n",
      "Epoch 2: Validation Loss = 0.9357\n",
      "Epoch 3: Validation Loss = 0.9215\n",
      "Epoch 4: Validation Loss = 0.9204\n",
      "Epoch 5: Validation Loss = 0.9250\n",
      "Epoch 6: Validation Loss = 0.9363\n",
      "Epoch 7: Validation Loss = 0.9489\n",
      "Epoch 8: Validation Loss = 0.9688\n",
      "Epoch 9: Validation Loss = 0.9827\n",
      "Epoch 10: Validation Loss = 1.0024\n"
     ]
    }
   ],
   "source": [
    "for epoch in range(num_epochs):\n",
    "    model.train()\n",
    "    for step, (input_ids, target_ids) in enumerate(train_loader):\n",
    "        optimizer.zero_grad()\n",
    "        outputs = model(input_ids=input_ids, labels=target_ids)\n",
    "        loss = outputs.loss\n",
    "        loss.backward()\n",
    "        optimizer.step()\n",
    "\n",
    "        # Adjust learning rate\n",
    "        lr = rate(step, model_size, factor, warmup)\n",
    "        for param_group in optimizer.param_groups:\n",
    "            param_group['lr'] = lr\n",
    "\n",
    "    # Save the model\n",
    "    model_save_path = f\"{output_dir}/epoch_{epoch+1}.pt\"\n",
    "    torch.save(model.state_dict(), model_save_path)\n",
    "\n",
    "    # Validation loop\n",
    "    model.eval()\n",
    "    val_loss = 0.0\n",
    "    with torch.no_grad():\n",
    "        for input_ids, target_ids in val_loader:\n",
    "            outputs = model(input_ids=input_ids, labels=target_ids)\n",
    "            val_loss += outputs.loss.item()\n",
    "\n",
    "    print(f\"Epoch {epoch+1}: Validation Loss = {val_loss/len(val_loader):.4f}\")\n",
    "\n",
    "# Save the fine-tuned model\n",
    "model.save_pretrained('fine-tuned-model')"
   ]
  },
  {
   "cell_type": "code",
   "execution_count": null,
   "metadata": {
    "id": "PgL0Wlz0a5Cm"
   },
   "outputs": [],
   "source": [
    "model = GPT2LMHeadModel.from_pretrained('fine-tuned-model')"
   ]
  },
  {
   "cell_type": "code",
   "execution_count": null,
   "metadata": {
    "id": "oH_mcEdLfjCe"
   },
   "outputs": [],
   "source": [
    "#model = GPT2LMHeadModel.from_pretrained('gpt2')\n",
    "#model.load_state_dict(torch.load('./results/epoch_5.pt'))"
   ]
  },
  {
   "cell_type": "code",
   "execution_count": null,
   "metadata": {
    "colab": {
     "base_uri": "https://localhost:8080/"
    },
    "id": "wHQz9lP_bF8Y",
    "outputId": "f65b1b06-1725-45dc-82f2-eee47cbaf1b3"
   },
   "outputs": [
    {
     "data": {
      "text/plain": [
       "GPT2LMHeadModel(\n",
       "  (transformer): GPT2Model(\n",
       "    (wte): Embedding(50257, 768)\n",
       "    (wpe): Embedding(1024, 768)\n",
       "    (drop): Dropout(p=0.1, inplace=False)\n",
       "    (h): ModuleList(\n",
       "      (0-11): 12 x GPT2Block(\n",
       "        (ln_1): LayerNorm((768,), eps=1e-05, elementwise_affine=True)\n",
       "        (attn): GPT2Attention(\n",
       "          (c_attn): Conv1D()\n",
       "          (c_proj): Conv1D()\n",
       "          (attn_dropout): Dropout(p=0.1, inplace=False)\n",
       "          (resid_dropout): Dropout(p=0.1, inplace=False)\n",
       "        )\n",
       "        (ln_2): LayerNorm((768,), eps=1e-05, elementwise_affine=True)\n",
       "        (mlp): GPT2MLP(\n",
       "          (c_fc): Conv1D()\n",
       "          (c_proj): Conv1D()\n",
       "          (act): NewGELUActivation()\n",
       "          (dropout): Dropout(p=0.1, inplace=False)\n",
       "        )\n",
       "      )\n",
       "    )\n",
       "    (ln_f): LayerNorm((768,), eps=1e-05, elementwise_affine=True)\n",
       "  )\n",
       "  (lm_head): Linear(in_features=768, out_features=50257, bias=False)\n",
       ")"
      ]
     },
     "execution_count": 36,
     "metadata": {},
     "output_type": "execute_result"
    }
   ],
   "source": [
    "model.eval()\n",
    "# Move the model to the device\n",
    "model.to(device)"
   ]
  },
  {
   "cell_type": "code",
   "execution_count": null,
   "metadata": {
    "colab": {
     "base_uri": "https://localhost:8080/"
    },
    "id": "XdGjlsBGpFho",
    "outputId": "244864bf-e29b-4d68-ee19-4bd9fa7e6e29"
   },
   "outputs": [
    {
     "name": "stdout",
     "output_type": "stream",
     "text": [
      "New Recipe: Cabbage Salad\n",
      "directions: Combine cabbage tomatoes dressing mix well. Add salt pepper. Mix well. Serve salad\n",
      "ingredients: cabbage, tomatoes, salt, pepper, cumin, garlic, cumin, cumin, cumin, cumin, cumin, cumin, cumin, cumin, cumin, cumin, cumin, cumin, cumin, cumin, cumin, cumin, cumin, cumin, cumin,\n"
     ]
    }
   ],
   "source": [
    "tokenizer = GPT2Tokenizer.from_pretrained('gpt2')\n",
    "\n",
    "def generate_recipe(model, tokenizer, max_length=100, temperature=0.7):\n",
    "    prompt = \"New Recipe:\"\n",
    "    input_ids = tokenizer.encode(prompt, return_tensors='pt').to(device)\n",
    "    output = model.generate(\n",
    "        input_ids=input_ids,\n",
    "        max_length=max_length,\n",
    "        temperature=temperature,\n",
    "        pad_token_id=tokenizer.eos_token_id,\n",
    "        num_return_sequences=1\n",
    "    )\n",
    "    #print(output)\n",
    "    generated_recipe = tokenizer.decode(output[0], skip_special_tokens=True)\n",
    "    return generated_recipe\n",
    "\n",
    "# Generate a new recipe\n",
    "new_recipe = generate_recipe(model, tokenizer)\n",
    "print(new_recipe)"
   ]
  },
  {
   "cell_type": "code",
   "execution_count": 2,
   "metadata": {
    "id": "RsfG1UP4SD6v"
   },
   "outputs": [],
   "source": [
    "import nltk"
   ]
  },
  {
   "cell_type": "code",
   "execution_count": 14,
   "metadata": {
    "id": "gxR9XCyiScHv"
   },
   "outputs": [],
   "source": [
    "reference_texts = ['name: Michigan Sauce Southern Style\\ndirections: Put ingredients pot mix together well cooks medium heat. The meat ketchup mixed prior cooking prevents meat clumping gives best chili texture. This also cooked crock pot\\ningredients: extra lean ground chuck, ketchup, onion, garlic, cumin, chili powder, cayenne pepper, salt']"
   ]
  },
  {
   "cell_type": "code",
   "execution_count": 15,
   "metadata": {
    "id": "OZPW-HEESsA5"
   },
   "outputs": [],
   "source": [
    "generated_texts = ['New Recipe: Cabbage Salad \\ndirections: Combine cabbage tomatoes dressing mix well. Add salt pepper. Mix well. Serve salad \\ningredients: cabbage, tomatoes, salt, pepper, cumin, garlic, cumin, cumin, cumin, cumin, cumin, cumin, cumin, cumin, cumin, cumin, cumin, cumin, cumin, cumin, cumin, cumin, cumin, cumin, cumin']"
   ]
  },
  {
   "cell_type": "code",
   "execution_count": 16,
   "metadata": {
    "id": "luj8SoWpSD6w"
   },
   "outputs": [],
   "source": [
    "# Convert generated and reference texts into tokenized lists\n",
    "generated_tokens = [generated_text.split() for generated_text in generated_texts]\n",
    "reference_tokens = [[reference_text.split()] for reference_text in reference_texts]\n"
   ]
  },
  {
   "cell_type": "code",
   "execution_count": 17,
   "metadata": {
    "colab": {
     "base_uri": "https://localhost:8080/"
    },
    "id": "xBeb9AjTTO8o",
    "outputId": "d9f037c5-fac5-4f88-f14d-82503d5dd495"
   },
   "outputs": [
    {
     "data": {
      "text/plain": [
       "3.4364138069410433e-155"
      ]
     },
     "execution_count": 17,
     "metadata": {},
     "output_type": "execute_result"
    }
   ],
   "source": [
    "# Compute BLEU score\n",
    "bleu_score = nltk.translate.bleu_score.corpus_bleu(reference_tokens, generated_tokens)\n",
    "bleu_score"
   ]
  },
  {
   "cell_type": "code",
   "execution_count": null,
   "metadata": {
    "id": "DcbpC1MqTh8R"
   },
   "outputs": [],
   "source": []
  },
  {
   "cell_type": "markdown",
   "metadata": {
    "id": "wslj-Q5hbdEt"
   },
   "source": [
    "## Different results"
   ]
  },
  {
   "cell_type": "code",
   "execution_count": 1,
   "metadata": {
    "id": "-o-y4kLaSD7E"
   },
   "outputs": [],
   "source": [
    "from IPython.display import Image"
   ]
  },
  {
   "cell_type": "markdown",
   "metadata": {
    "id": "GiDjkIhVbdGr"
   },
   "source": [
    "#### Example 1:\n",
    "num_data = 10,\n",
    "batch_size = 4"
   ]
  },
  {
   "cell_type": "code",
   "execution_count": 2,
   "metadata": {
    "id": "2xBjRUe9SD7F",
    "outputId": "2548b06e-32fd-42cc-845d-191e0185cb33"
   },
   "outputs": [
    {
     "data": {
      "text/html": [
       "<img src=\"./images/desetcetiri.png\" width=\"800\" height=\"600\"/>"
      ],
      "text/plain": [
       "<IPython.core.display.Image object>"
      ]
     },
     "execution_count": 2,
     "metadata": {},
     "output_type": "execute_result"
    }
   ],
   "source": [
    "Image(url=\"./images/desetcetiri.png\", width=800, height=600)"
   ]
  },
  {
   "cell_type": "markdown",
   "metadata": {
    "id": "FW_AsW3XSD7G"
   },
   "source": [
    "#### Example 2:\n",
    "num_data = 100,\n",
    "max_sequence_length = 100,\n",
    "batch_size = 8"
   ]
  },
  {
   "cell_type": "code",
   "execution_count": 3,
   "metadata": {
    "id": "mfEw_Pn-SD7H",
    "outputId": "1a91856e-edce-4428-bac0-d91f2618456d"
   },
   "outputs": [
    {
     "data": {
      "text/html": [
       "<img src=\"./images/stostoosam.png\" width=\"800\" height=\"500\"/>"
      ],
      "text/plain": [
       "<IPython.core.display.Image object>"
      ]
     },
     "execution_count": 3,
     "metadata": {},
     "output_type": "execute_result"
    }
   ],
   "source": [
    "Image(url=\"./images/stostoosam.png\", width=800, height=500)"
   ]
  },
  {
   "cell_type": "markdown",
   "metadata": {
    "id": "W1EoakmvSD7I"
   },
   "source": [
    "#### Example 3:\n",
    "num_data = 100,\n",
    "max_sequence_length = 100,\n",
    "batch_size = 16"
   ]
  },
  {
   "cell_type": "code",
   "execution_count": 4,
   "metadata": {
    "id": "LzBZie9zSD7J",
    "outputId": "ac94a629-1ccd-4c15-b6b4-2a0700ee7178"
   },
   "outputs": [
    {
     "data": {
      "text/html": [
       "<img src=\"./images/stosto16.png\" width=\"800\" height=\"500\"/>"
      ],
      "text/plain": [
       "<IPython.core.display.Image object>"
      ]
     },
     "execution_count": 4,
     "metadata": {},
     "output_type": "execute_result"
    }
   ],
   "source": [
    "Image(url=\"./images/stosto16.png\", width=800, height=500)"
   ]
  },
  {
   "cell_type": "markdown",
   "metadata": {
    "id": "Y2e13UcCSD7J"
   },
   "source": [
    "#### Example 4:\n",
    "num_data = 1000,\n",
    "max_sequence_length = 100,\n",
    "batch_size = 8"
   ]
  },
  {
   "cell_type": "code",
   "execution_count": 5,
   "metadata": {
    "id": "s7wE1ZOlSD7J",
    "outputId": "b2472015-e445-4592-c25d-8266e021aa38"
   },
   "outputs": [
    {
     "data": {
      "text/html": [
       "<img src=\"./images/tisstoosam.png\" width=\"800\" height=\"500\"/>"
      ],
      "text/plain": [
       "<IPython.core.display.Image object>"
      ]
     },
     "execution_count": 5,
     "metadata": {},
     "output_type": "execute_result"
    }
   ],
   "source": [
    "Image(url=\"./images/tisstoosam.png\", width=800, height=500)"
   ]
  },
  {
   "cell_type": "markdown",
   "metadata": {
    "id": "ez6W4WfqSD7K"
   },
   "source": [
    "#### Example 5:\n",
    "num_data = 1000,\n",
    "max_sequence_length = 300,\n",
    "batch_size = 4"
   ]
  },
  {
   "cell_type": "code",
   "execution_count": 6,
   "metadata": {
    "id": "Jtk7I1aGSD7K",
    "outputId": "8f76e42d-103c-48f7-c126-f765d02a128a"
   },
   "outputs": [
    {
     "data": {
      "text/html": [
       "<img src=\"./images/tis300cetiri.png\" width=\"800\" height=\"500\"/>"
      ],
      "text/plain": [
       "<IPython.core.display.Image object>"
      ]
     },
     "execution_count": 6,
     "metadata": {},
     "output_type": "execute_result"
    }
   ],
   "source": [
    "Image(url=\"./images/tis300cetiri.png\", width=800, height=500)"
   ]
  },
  {
   "cell_type": "code",
   "execution_count": null,
   "metadata": {
    "id": "c4g8kUWTSD7L"
   },
   "outputs": [],
   "source": []
  }
 ],
 "metadata": {
  "accelerator": "GPU",
  "colab": {
   "gpuType": "T4",
   "provenance": []
  },
  "kernelspec": {
   "display_name": "Python 3 (ipykernel)",
   "language": "python",
   "name": "python3"
  },
  "language_info": {
   "codemirror_mode": {
    "name": "ipython",
    "version": 3
   },
   "file_extension": ".py",
   "mimetype": "text/x-python",
   "name": "python",
   "nbconvert_exporter": "python",
   "pygments_lexer": "ipython3",
   "version": "3.9.7"
  },
  "widgets": {
   "application/vnd.jupyter.widget-state+json": {
    "03845586303c41bc8ca53ebddbe9fded": {
     "model_module": "@jupyter-widgets/controls",
     "model_module_version": "1.5.0",
     "model_name": "DescriptionStyleModel",
     "state": {
      "_model_module": "@jupyter-widgets/controls",
      "_model_module_version": "1.5.0",
      "_model_name": "DescriptionStyleModel",
      "_view_count": null,
      "_view_module": "@jupyter-widgets/base",
      "_view_module_version": "1.2.0",
      "_view_name": "StyleView",
      "description_width": ""
     }
    },
    "0ad5ae56aaf4451da08c5e75ac46c099": {
     "model_module": "@jupyter-widgets/controls",
     "model_module_version": "1.5.0",
     "model_name": "ProgressStyleModel",
     "state": {
      "_model_module": "@jupyter-widgets/controls",
      "_model_module_version": "1.5.0",
      "_model_name": "ProgressStyleModel",
      "_view_count": null,
      "_view_module": "@jupyter-widgets/base",
      "_view_module_version": "1.2.0",
      "_view_name": "StyleView",
      "bar_color": null,
      "description_width": ""
     }
    },
    "139205444de24beab78c8c6bced0eee3": {
     "model_module": "@jupyter-widgets/controls",
     "model_module_version": "1.5.0",
     "model_name": "DescriptionStyleModel",
     "state": {
      "_model_module": "@jupyter-widgets/controls",
      "_model_module_version": "1.5.0",
      "_model_name": "DescriptionStyleModel",
      "_view_count": null,
      "_view_module": "@jupyter-widgets/base",
      "_view_module_version": "1.2.0",
      "_view_name": "StyleView",
      "description_width": ""
     }
    },
    "183ee11344d44d42b561b9a7c6a93be1": {
     "model_module": "@jupyter-widgets/controls",
     "model_module_version": "1.5.0",
     "model_name": "HTMLModel",
     "state": {
      "_dom_classes": [],
      "_model_module": "@jupyter-widgets/controls",
      "_model_module_version": "1.5.0",
      "_model_name": "HTMLModel",
      "_view_count": null,
      "_view_module": "@jupyter-widgets/controls",
      "_view_module_version": "1.5.0",
      "_view_name": "HTMLView",
      "description": "",
      "description_tooltip": null,
      "layout": "IPY_MODEL_ac832085b62c46609759b8b500951e10",
      "placeholder": "​",
      "style": "IPY_MODEL_f7c0495e1d874393b215b16a8728b912",
      "value": " 1.04M/1.04M [00:00&lt;00:00, 3.16MB/s]"
     }
    },
    "1d80a50028264ef2a682f69e1c0c6ce4": {
     "model_module": "@jupyter-widgets/controls",
     "model_module_version": "1.5.0",
     "model_name": "DescriptionStyleModel",
     "state": {
      "_model_module": "@jupyter-widgets/controls",
      "_model_module_version": "1.5.0",
      "_model_name": "DescriptionStyleModel",
      "_view_count": null,
      "_view_module": "@jupyter-widgets/base",
      "_view_module_version": "1.2.0",
      "_view_name": "StyleView",
      "description_width": ""
     }
    },
    "1f5161eb4e964a1b81fd2d7920baac48": {
     "model_module": "@jupyter-widgets/base",
     "model_module_version": "1.2.0",
     "model_name": "LayoutModel",
     "state": {
      "_model_module": "@jupyter-widgets/base",
      "_model_module_version": "1.2.0",
      "_model_name": "LayoutModel",
      "_view_count": null,
      "_view_module": "@jupyter-widgets/base",
      "_view_module_version": "1.2.0",
      "_view_name": "LayoutView",
      "align_content": null,
      "align_items": null,
      "align_self": null,
      "border": null,
      "bottom": null,
      "display": null,
      "flex": null,
      "flex_flow": null,
      "grid_area": null,
      "grid_auto_columns": null,
      "grid_auto_flow": null,
      "grid_auto_rows": null,
      "grid_column": null,
      "grid_gap": null,
      "grid_row": null,
      "grid_template_areas": null,
      "grid_template_columns": null,
      "grid_template_rows": null,
      "height": null,
      "justify_content": null,
      "justify_items": null,
      "left": null,
      "margin": null,
      "max_height": null,
      "max_width": null,
      "min_height": null,
      "min_width": null,
      "object_fit": null,
      "object_position": null,
      "order": null,
      "overflow": null,
      "overflow_x": null,
      "overflow_y": null,
      "padding": null,
      "right": null,
      "top": null,
      "visibility": null,
      "width": null
     }
    },
    "2d19816d17be4f0896464b19239fea97": {
     "model_module": "@jupyter-widgets/controls",
     "model_module_version": "1.5.0",
     "model_name": "ProgressStyleModel",
     "state": {
      "_model_module": "@jupyter-widgets/controls",
      "_model_module_version": "1.5.0",
      "_model_name": "ProgressStyleModel",
      "_view_count": null,
      "_view_module": "@jupyter-widgets/base",
      "_view_module_version": "1.2.0",
      "_view_name": "StyleView",
      "bar_color": null,
      "description_width": ""
     }
    },
    "35afdc6ce1ea48379c323929745ac580": {
     "model_module": "@jupyter-widgets/controls",
     "model_module_version": "1.5.0",
     "model_name": "DescriptionStyleModel",
     "state": {
      "_model_module": "@jupyter-widgets/controls",
      "_model_module_version": "1.5.0",
      "_model_name": "DescriptionStyleModel",
      "_view_count": null,
      "_view_module": "@jupyter-widgets/base",
      "_view_module_version": "1.2.0",
      "_view_name": "StyleView",
      "description_width": ""
     }
    },
    "37321a43855747e39ef45f31981b47ef": {
     "model_module": "@jupyter-widgets/controls",
     "model_module_version": "1.5.0",
     "model_name": "DescriptionStyleModel",
     "state": {
      "_model_module": "@jupyter-widgets/controls",
      "_model_module_version": "1.5.0",
      "_model_name": "DescriptionStyleModel",
      "_view_count": null,
      "_view_module": "@jupyter-widgets/base",
      "_view_module_version": "1.2.0",
      "_view_name": "StyleView",
      "description_width": ""
     }
    },
    "403805fc412e47779775800d866fdfd2": {
     "model_module": "@jupyter-widgets/controls",
     "model_module_version": "1.5.0",
     "model_name": "HTMLModel",
     "state": {
      "_dom_classes": [],
      "_model_module": "@jupyter-widgets/controls",
      "_model_module_version": "1.5.0",
      "_model_name": "HTMLModel",
      "_view_count": null,
      "_view_module": "@jupyter-widgets/controls",
      "_view_module_version": "1.5.0",
      "_view_name": "HTMLView",
      "description": "",
      "description_tooltip": null,
      "layout": "IPY_MODEL_b5eb3849ae3446f3bb8cad782cb18ea1",
      "placeholder": "​",
      "style": "IPY_MODEL_139205444de24beab78c8c6bced0eee3",
      "value": " 548M/548M [00:05&lt;00:00, 97.5MB/s]"
     }
    },
    "40d68f78b4b54d5b8b34411071c20d74": {
     "model_module": "@jupyter-widgets/base",
     "model_module_version": "1.2.0",
     "model_name": "LayoutModel",
     "state": {
      "_model_module": "@jupyter-widgets/base",
      "_model_module_version": "1.2.0",
      "_model_name": "LayoutModel",
      "_view_count": null,
      "_view_module": "@jupyter-widgets/base",
      "_view_module_version": "1.2.0",
      "_view_name": "LayoutView",
      "align_content": null,
      "align_items": null,
      "align_self": null,
      "border": null,
      "bottom": null,
      "display": null,
      "flex": null,
      "flex_flow": null,
      "grid_area": null,
      "grid_auto_columns": null,
      "grid_auto_flow": null,
      "grid_auto_rows": null,
      "grid_column": null,
      "grid_gap": null,
      "grid_row": null,
      "grid_template_areas": null,
      "grid_template_columns": null,
      "grid_template_rows": null,
      "height": null,
      "justify_content": null,
      "justify_items": null,
      "left": null,
      "margin": null,
      "max_height": null,
      "max_width": null,
      "min_height": null,
      "min_width": null,
      "object_fit": null,
      "object_position": null,
      "order": null,
      "overflow": null,
      "overflow_x": null,
      "overflow_y": null,
      "padding": null,
      "right": null,
      "top": null,
      "visibility": null,
      "width": null
     }
    },
    "45e208e9cc124985aa0fc4cca8a2ebfe": {
     "model_module": "@jupyter-widgets/controls",
     "model_module_version": "1.5.0",
     "model_name": "DescriptionStyleModel",
     "state": {
      "_model_module": "@jupyter-widgets/controls",
      "_model_module_version": "1.5.0",
      "_model_name": "DescriptionStyleModel",
      "_view_count": null,
      "_view_module": "@jupyter-widgets/base",
      "_view_module_version": "1.2.0",
      "_view_name": "StyleView",
      "description_width": ""
     }
    },
    "4869f64a692b4683b18ea4167afc3d1d": {
     "model_module": "@jupyter-widgets/base",
     "model_module_version": "1.2.0",
     "model_name": "LayoutModel",
     "state": {
      "_model_module": "@jupyter-widgets/base",
      "_model_module_version": "1.2.0",
      "_model_name": "LayoutModel",
      "_view_count": null,
      "_view_module": "@jupyter-widgets/base",
      "_view_module_version": "1.2.0",
      "_view_name": "LayoutView",
      "align_content": null,
      "align_items": null,
      "align_self": null,
      "border": null,
      "bottom": null,
      "display": null,
      "flex": null,
      "flex_flow": null,
      "grid_area": null,
      "grid_auto_columns": null,
      "grid_auto_flow": null,
      "grid_auto_rows": null,
      "grid_column": null,
      "grid_gap": null,
      "grid_row": null,
      "grid_template_areas": null,
      "grid_template_columns": null,
      "grid_template_rows": null,
      "height": null,
      "justify_content": null,
      "justify_items": null,
      "left": null,
      "margin": null,
      "max_height": null,
      "max_width": null,
      "min_height": null,
      "min_width": null,
      "object_fit": null,
      "object_position": null,
      "order": null,
      "overflow": null,
      "overflow_x": null,
      "overflow_y": null,
      "padding": null,
      "right": null,
      "top": null,
      "visibility": null,
      "width": null
     }
    },
    "53d09e3555b643cba5af3c067872cd49": {
     "model_module": "@jupyter-widgets/base",
     "model_module_version": "1.2.0",
     "model_name": "LayoutModel",
     "state": {
      "_model_module": "@jupyter-widgets/base",
      "_model_module_version": "1.2.0",
      "_model_name": "LayoutModel",
      "_view_count": null,
      "_view_module": "@jupyter-widgets/base",
      "_view_module_version": "1.2.0",
      "_view_name": "LayoutView",
      "align_content": null,
      "align_items": null,
      "align_self": null,
      "border": null,
      "bottom": null,
      "display": null,
      "flex": null,
      "flex_flow": null,
      "grid_area": null,
      "grid_auto_columns": null,
      "grid_auto_flow": null,
      "grid_auto_rows": null,
      "grid_column": null,
      "grid_gap": null,
      "grid_row": null,
      "grid_template_areas": null,
      "grid_template_columns": null,
      "grid_template_rows": null,
      "height": null,
      "justify_content": null,
      "justify_items": null,
      "left": null,
      "margin": null,
      "max_height": null,
      "max_width": null,
      "min_height": null,
      "min_width": null,
      "object_fit": null,
      "object_position": null,
      "order": null,
      "overflow": null,
      "overflow_x": null,
      "overflow_y": null,
      "padding": null,
      "right": null,
      "top": null,
      "visibility": null,
      "width": null
     }
    },
    "5e4338990c69477c8ce5a3c0746680bf": {
     "model_module": "@jupyter-widgets/controls",
     "model_module_version": "1.5.0",
     "model_name": "FloatProgressModel",
     "state": {
      "_dom_classes": [],
      "_model_module": "@jupyter-widgets/controls",
      "_model_module_version": "1.5.0",
      "_model_name": "FloatProgressModel",
      "_view_count": null,
      "_view_module": "@jupyter-widgets/controls",
      "_view_module_version": "1.5.0",
      "_view_name": "ProgressView",
      "bar_style": "success",
      "description": "",
      "description_tooltip": null,
      "layout": "IPY_MODEL_ef6d78b0664c453784a661ae6cb9f5ae",
      "max": 548105171,
      "min": 0,
      "orientation": "horizontal",
      "style": "IPY_MODEL_0ad5ae56aaf4451da08c5e75ac46c099",
      "value": 548105171
     }
    },
    "5e89ec2af50f47449d2770e0e560628f": {
     "model_module": "@jupyter-widgets/controls",
     "model_module_version": "1.5.0",
     "model_name": "ProgressStyleModel",
     "state": {
      "_model_module": "@jupyter-widgets/controls",
      "_model_module_version": "1.5.0",
      "_model_name": "ProgressStyleModel",
      "_view_count": null,
      "_view_module": "@jupyter-widgets/base",
      "_view_module_version": "1.2.0",
      "_view_name": "StyleView",
      "bar_color": null,
      "description_width": ""
     }
    },
    "641938bbb5174a6a82309be29cd2bbed": {
     "model_module": "@jupyter-widgets/controls",
     "model_module_version": "1.5.0",
     "model_name": "HTMLModel",
     "state": {
      "_dom_classes": [],
      "_model_module": "@jupyter-widgets/controls",
      "_model_module_version": "1.5.0",
      "_model_name": "HTMLModel",
      "_view_count": null,
      "_view_module": "@jupyter-widgets/controls",
      "_view_module_version": "1.5.0",
      "_view_name": "HTMLView",
      "description": "",
      "description_tooltip": null,
      "layout": "IPY_MODEL_b7d10bb9e35c416da166763e5c3dae4f",
      "placeholder": "​",
      "style": "IPY_MODEL_45e208e9cc124985aa0fc4cca8a2ebfe",
      "value": "Downloading model.safetensors: 100%"
     }
    },
    "657f3a1292eb4b07926993aa09544463": {
     "model_module": "@jupyter-widgets/controls",
     "model_module_version": "1.5.0",
     "model_name": "HBoxModel",
     "state": {
      "_dom_classes": [],
      "_model_module": "@jupyter-widgets/controls",
      "_model_module_version": "1.5.0",
      "_model_name": "HBoxModel",
      "_view_count": null,
      "_view_module": "@jupyter-widgets/controls",
      "_view_module_version": "1.5.0",
      "_view_name": "HBoxView",
      "box_style": "",
      "children": [
       "IPY_MODEL_978c002fd0b740fb88499d1bc5771df9",
       "IPY_MODEL_b94554433c5c424387deae1afcab3dec",
       "IPY_MODEL_183ee11344d44d42b561b9a7c6a93be1"
      ],
      "layout": "IPY_MODEL_8cb600bd122e46c6995f3cf69aff7268"
     }
    },
    "676039fec3ed4c97b1fd7d48f9ea8fe9": {
     "model_module": "@jupyter-widgets/controls",
     "model_module_version": "1.5.0",
     "model_name": "HBoxModel",
     "state": {
      "_dom_classes": [],
      "_model_module": "@jupyter-widgets/controls",
      "_model_module_version": "1.5.0",
      "_model_name": "HBoxModel",
      "_view_count": null,
      "_view_module": "@jupyter-widgets/controls",
      "_view_module_version": "1.5.0",
      "_view_name": "HBoxView",
      "box_style": "",
      "children": [
       "IPY_MODEL_8909c95fed6f4ae48e05fa02747b277f",
       "IPY_MODEL_d54d5648f5ca43779195fbd427b6c830",
       "IPY_MODEL_8af877ea8edf4cd8acd4ba515746529c"
      ],
      "layout": "IPY_MODEL_d1bfc5a311284da4a0f048af8d9a1d7d"
     }
    },
    "6871c4b3dd73454dae49b4e44ddfaaaf": {
     "model_module": "@jupyter-widgets/base",
     "model_module_version": "1.2.0",
     "model_name": "LayoutModel",
     "state": {
      "_model_module": "@jupyter-widgets/base",
      "_model_module_version": "1.2.0",
      "_model_name": "LayoutModel",
      "_view_count": null,
      "_view_module": "@jupyter-widgets/base",
      "_view_module_version": "1.2.0",
      "_view_name": "LayoutView",
      "align_content": null,
      "align_items": null,
      "align_self": null,
      "border": null,
      "bottom": null,
      "display": null,
      "flex": null,
      "flex_flow": null,
      "grid_area": null,
      "grid_auto_columns": null,
      "grid_auto_flow": null,
      "grid_auto_rows": null,
      "grid_column": null,
      "grid_gap": null,
      "grid_row": null,
      "grid_template_areas": null,
      "grid_template_columns": null,
      "grid_template_rows": null,
      "height": null,
      "justify_content": null,
      "justify_items": null,
      "left": null,
      "margin": null,
      "max_height": null,
      "max_width": null,
      "min_height": null,
      "min_width": null,
      "object_fit": null,
      "object_position": null,
      "order": null,
      "overflow": null,
      "overflow_x": null,
      "overflow_y": null,
      "padding": null,
      "right": null,
      "top": null,
      "visibility": null,
      "width": null
     }
    },
    "6b16a6b35334486a9396454aab91fb21": {
     "model_module": "@jupyter-widgets/base",
     "model_module_version": "1.2.0",
     "model_name": "LayoutModel",
     "state": {
      "_model_module": "@jupyter-widgets/base",
      "_model_module_version": "1.2.0",
      "_model_name": "LayoutModel",
      "_view_count": null,
      "_view_module": "@jupyter-widgets/base",
      "_view_module_version": "1.2.0",
      "_view_name": "LayoutView",
      "align_content": null,
      "align_items": null,
      "align_self": null,
      "border": null,
      "bottom": null,
      "display": null,
      "flex": null,
      "flex_flow": null,
      "grid_area": null,
      "grid_auto_columns": null,
      "grid_auto_flow": null,
      "grid_auto_rows": null,
      "grid_column": null,
      "grid_gap": null,
      "grid_row": null,
      "grid_template_areas": null,
      "grid_template_columns": null,
      "grid_template_rows": null,
      "height": null,
      "justify_content": null,
      "justify_items": null,
      "left": null,
      "margin": null,
      "max_height": null,
      "max_width": null,
      "min_height": null,
      "min_width": null,
      "object_fit": null,
      "object_position": null,
      "order": null,
      "overflow": null,
      "overflow_x": null,
      "overflow_y": null,
      "padding": null,
      "right": null,
      "top": null,
      "visibility": null,
      "width": null
     }
    },
    "6b669134ad7a4bb7bdb19ba8b5ede0d8": {
     "model_module": "@jupyter-widgets/base",
     "model_module_version": "1.2.0",
     "model_name": "LayoutModel",
     "state": {
      "_model_module": "@jupyter-widgets/base",
      "_model_module_version": "1.2.0",
      "_model_name": "LayoutModel",
      "_view_count": null,
      "_view_module": "@jupyter-widgets/base",
      "_view_module_version": "1.2.0",
      "_view_name": "LayoutView",
      "align_content": null,
      "align_items": null,
      "align_self": null,
      "border": null,
      "bottom": null,
      "display": null,
      "flex": null,
      "flex_flow": null,
      "grid_area": null,
      "grid_auto_columns": null,
      "grid_auto_flow": null,
      "grid_auto_rows": null,
      "grid_column": null,
      "grid_gap": null,
      "grid_row": null,
      "grid_template_areas": null,
      "grid_template_columns": null,
      "grid_template_rows": null,
      "height": null,
      "justify_content": null,
      "justify_items": null,
      "left": null,
      "margin": null,
      "max_height": null,
      "max_width": null,
      "min_height": null,
      "min_width": null,
      "object_fit": null,
      "object_position": null,
      "order": null,
      "overflow": null,
      "overflow_x": null,
      "overflow_y": null,
      "padding": null,
      "right": null,
      "top": null,
      "visibility": null,
      "width": null
     }
    },
    "768b4968116e4303ba385af9d619441d": {
     "model_module": "@jupyter-widgets/controls",
     "model_module_version": "1.5.0",
     "model_name": "HTMLModel",
     "state": {
      "_dom_classes": [],
      "_model_module": "@jupyter-widgets/controls",
      "_model_module_version": "1.5.0",
      "_model_name": "HTMLModel",
      "_view_count": null,
      "_view_module": "@jupyter-widgets/controls",
      "_view_module_version": "1.5.0",
      "_view_name": "HTMLView",
      "description": "",
      "description_tooltip": null,
      "layout": "IPY_MODEL_a05be7a4ff2349578b804bc783aba04a",
      "placeholder": "​",
      "style": "IPY_MODEL_1d80a50028264ef2a682f69e1c0c6ce4",
      "value": "Downloading (…)lve/main/config.json: 100%"
     }
    },
    "884f15f67d2b4b9c93e2675341fb76af": {
     "model_module": "@jupyter-widgets/controls",
     "model_module_version": "1.5.0",
     "model_name": "DescriptionStyleModel",
     "state": {
      "_model_module": "@jupyter-widgets/controls",
      "_model_module_version": "1.5.0",
      "_model_name": "DescriptionStyleModel",
      "_view_count": null,
      "_view_module": "@jupyter-widgets/base",
      "_view_module_version": "1.2.0",
      "_view_name": "StyleView",
      "description_width": ""
     }
    },
    "8909c95fed6f4ae48e05fa02747b277f": {
     "model_module": "@jupyter-widgets/controls",
     "model_module_version": "1.5.0",
     "model_name": "HTMLModel",
     "state": {
      "_dom_classes": [],
      "_model_module": "@jupyter-widgets/controls",
      "_model_module_version": "1.5.0",
      "_model_name": "HTMLModel",
      "_view_count": null,
      "_view_module": "@jupyter-widgets/controls",
      "_view_module_version": "1.5.0",
      "_view_name": "HTMLView",
      "description": "",
      "description_tooltip": null,
      "layout": "IPY_MODEL_6b16a6b35334486a9396454aab91fb21",
      "placeholder": "​",
      "style": "IPY_MODEL_884f15f67d2b4b9c93e2675341fb76af",
      "value": "Downloading (…)neration_config.json: 100%"
     }
    },
    "8af877ea8edf4cd8acd4ba515746529c": {
     "model_module": "@jupyter-widgets/controls",
     "model_module_version": "1.5.0",
     "model_name": "HTMLModel",
     "state": {
      "_dom_classes": [],
      "_model_module": "@jupyter-widgets/controls",
      "_model_module_version": "1.5.0",
      "_model_name": "HTMLModel",
      "_view_count": null,
      "_view_module": "@jupyter-widgets/controls",
      "_view_module_version": "1.5.0",
      "_view_name": "HTMLView",
      "description": "",
      "description_tooltip": null,
      "layout": "IPY_MODEL_6b669134ad7a4bb7bdb19ba8b5ede0d8",
      "placeholder": "​",
      "style": "IPY_MODEL_37321a43855747e39ef45f31981b47ef",
      "value": " 124/124 [00:00&lt;00:00, 5.51kB/s]"
     }
    },
    "8c30ad2d083743958d37e97a780f194b": {
     "model_module": "@jupyter-widgets/controls",
     "model_module_version": "1.5.0",
     "model_name": "HBoxModel",
     "state": {
      "_dom_classes": [],
      "_model_module": "@jupyter-widgets/controls",
      "_model_module_version": "1.5.0",
      "_model_name": "HBoxModel",
      "_view_count": null,
      "_view_module": "@jupyter-widgets/controls",
      "_view_module_version": "1.5.0",
      "_view_name": "HBoxView",
      "box_style": "",
      "children": [
       "IPY_MODEL_641938bbb5174a6a82309be29cd2bbed",
       "IPY_MODEL_5e4338990c69477c8ce5a3c0746680bf",
       "IPY_MODEL_403805fc412e47779775800d866fdfd2"
      ],
      "layout": "IPY_MODEL_bfd3739647da4ec9a798868c86412211"
     }
    },
    "8cb600bd122e46c6995f3cf69aff7268": {
     "model_module": "@jupyter-widgets/base",
     "model_module_version": "1.2.0",
     "model_name": "LayoutModel",
     "state": {
      "_model_module": "@jupyter-widgets/base",
      "_model_module_version": "1.2.0",
      "_model_name": "LayoutModel",
      "_view_count": null,
      "_view_module": "@jupyter-widgets/base",
      "_view_module_version": "1.2.0",
      "_view_name": "LayoutView",
      "align_content": null,
      "align_items": null,
      "align_self": null,
      "border": null,
      "bottom": null,
      "display": null,
      "flex": null,
      "flex_flow": null,
      "grid_area": null,
      "grid_auto_columns": null,
      "grid_auto_flow": null,
      "grid_auto_rows": null,
      "grid_column": null,
      "grid_gap": null,
      "grid_row": null,
      "grid_template_areas": null,
      "grid_template_columns": null,
      "grid_template_rows": null,
      "height": null,
      "justify_content": null,
      "justify_items": null,
      "left": null,
      "margin": null,
      "max_height": null,
      "max_width": null,
      "min_height": null,
      "min_width": null,
      "object_fit": null,
      "object_position": null,
      "order": null,
      "overflow": null,
      "overflow_x": null,
      "overflow_y": null,
      "padding": null,
      "right": null,
      "top": null,
      "visibility": null,
      "width": null
     }
    },
    "934c375316cf486088804c717930cc76": {
     "model_module": "@jupyter-widgets/base",
     "model_module_version": "1.2.0",
     "model_name": "LayoutModel",
     "state": {
      "_model_module": "@jupyter-widgets/base",
      "_model_module_version": "1.2.0",
      "_model_name": "LayoutModel",
      "_view_count": null,
      "_view_module": "@jupyter-widgets/base",
      "_view_module_version": "1.2.0",
      "_view_name": "LayoutView",
      "align_content": null,
      "align_items": null,
      "align_self": null,
      "border": null,
      "bottom": null,
      "display": null,
      "flex": null,
      "flex_flow": null,
      "grid_area": null,
      "grid_auto_columns": null,
      "grid_auto_flow": null,
      "grid_auto_rows": null,
      "grid_column": null,
      "grid_gap": null,
      "grid_row": null,
      "grid_template_areas": null,
      "grid_template_columns": null,
      "grid_template_rows": null,
      "height": null,
      "justify_content": null,
      "justify_items": null,
      "left": null,
      "margin": null,
      "max_height": null,
      "max_width": null,
      "min_height": null,
      "min_width": null,
      "object_fit": null,
      "object_position": null,
      "order": null,
      "overflow": null,
      "overflow_x": null,
      "overflow_y": null,
      "padding": null,
      "right": null,
      "top": null,
      "visibility": null,
      "width": null
     }
    },
    "974bd6ae03ea416699ea82d70d38ebcb": {
     "model_module": "@jupyter-widgets/controls",
     "model_module_version": "1.5.0",
     "model_name": "ProgressStyleModel",
     "state": {
      "_model_module": "@jupyter-widgets/controls",
      "_model_module_version": "1.5.0",
      "_model_name": "ProgressStyleModel",
      "_view_count": null,
      "_view_module": "@jupyter-widgets/base",
      "_view_module_version": "1.2.0",
      "_view_name": "StyleView",
      "bar_color": null,
      "description_width": ""
     }
    },
    "978c002fd0b740fb88499d1bc5771df9": {
     "model_module": "@jupyter-widgets/controls",
     "model_module_version": "1.5.0",
     "model_name": "HTMLModel",
     "state": {
      "_dom_classes": [],
      "_model_module": "@jupyter-widgets/controls",
      "_model_module_version": "1.5.0",
      "_model_name": "HTMLModel",
      "_view_count": null,
      "_view_module": "@jupyter-widgets/controls",
      "_view_module_version": "1.5.0",
      "_view_name": "HTMLView",
      "description": "",
      "description_tooltip": null,
      "layout": "IPY_MODEL_4869f64a692b4683b18ea4167afc3d1d",
      "placeholder": "​",
      "style": "IPY_MODEL_c15f221404f74a5fae1a1c4583bfd0f4",
      "value": "Downloading (…)olve/main/vocab.json: 100%"
     }
    },
    "a05be7a4ff2349578b804bc783aba04a": {
     "model_module": "@jupyter-widgets/base",
     "model_module_version": "1.2.0",
     "model_name": "LayoutModel",
     "state": {
      "_model_module": "@jupyter-widgets/base",
      "_model_module_version": "1.2.0",
      "_model_name": "LayoutModel",
      "_view_count": null,
      "_view_module": "@jupyter-widgets/base",
      "_view_module_version": "1.2.0",
      "_view_name": "LayoutView",
      "align_content": null,
      "align_items": null,
      "align_self": null,
      "border": null,
      "bottom": null,
      "display": null,
      "flex": null,
      "flex_flow": null,
      "grid_area": null,
      "grid_auto_columns": null,
      "grid_auto_flow": null,
      "grid_auto_rows": null,
      "grid_column": null,
      "grid_gap": null,
      "grid_row": null,
      "grid_template_areas": null,
      "grid_template_columns": null,
      "grid_template_rows": null,
      "height": null,
      "justify_content": null,
      "justify_items": null,
      "left": null,
      "margin": null,
      "max_height": null,
      "max_width": null,
      "min_height": null,
      "min_width": null,
      "object_fit": null,
      "object_position": null,
      "order": null,
      "overflow": null,
      "overflow_x": null,
      "overflow_y": null,
      "padding": null,
      "right": null,
      "top": null,
      "visibility": null,
      "width": null
     }
    },
    "a3eb66ce9d684eea91e8822d2b4dc2e6": {
     "model_module": "@jupyter-widgets/controls",
     "model_module_version": "1.5.0",
     "model_name": "HBoxModel",
     "state": {
      "_dom_classes": [],
      "_model_module": "@jupyter-widgets/controls",
      "_model_module_version": "1.5.0",
      "_model_name": "HBoxModel",
      "_view_count": null,
      "_view_module": "@jupyter-widgets/controls",
      "_view_module_version": "1.5.0",
      "_view_name": "HBoxView",
      "box_style": "",
      "children": [
       "IPY_MODEL_b2688572e0af428296c40f9b44987a0a",
       "IPY_MODEL_f6a06cd0555b4a86b777bc6267d20607",
       "IPY_MODEL_d80c84c1c5684b1784a8d298f2289fe7"
      ],
      "layout": "IPY_MODEL_53d09e3555b643cba5af3c067872cd49"
     }
    },
    "a782157f346542678cda67115665b289": {
     "model_module": "@jupyter-widgets/base",
     "model_module_version": "1.2.0",
     "model_name": "LayoutModel",
     "state": {
      "_model_module": "@jupyter-widgets/base",
      "_model_module_version": "1.2.0",
      "_model_name": "LayoutModel",
      "_view_count": null,
      "_view_module": "@jupyter-widgets/base",
      "_view_module_version": "1.2.0",
      "_view_name": "LayoutView",
      "align_content": null,
      "align_items": null,
      "align_self": null,
      "border": null,
      "bottom": null,
      "display": null,
      "flex": null,
      "flex_flow": null,
      "grid_area": null,
      "grid_auto_columns": null,
      "grid_auto_flow": null,
      "grid_auto_rows": null,
      "grid_column": null,
      "grid_gap": null,
      "grid_row": null,
      "grid_template_areas": null,
      "grid_template_columns": null,
      "grid_template_rows": null,
      "height": null,
      "justify_content": null,
      "justify_items": null,
      "left": null,
      "margin": null,
      "max_height": null,
      "max_width": null,
      "min_height": null,
      "min_width": null,
      "object_fit": null,
      "object_position": null,
      "order": null,
      "overflow": null,
      "overflow_x": null,
      "overflow_y": null,
      "padding": null,
      "right": null,
      "top": null,
      "visibility": null,
      "width": null
     }
    },
    "ac832085b62c46609759b8b500951e10": {
     "model_module": "@jupyter-widgets/base",
     "model_module_version": "1.2.0",
     "model_name": "LayoutModel",
     "state": {
      "_model_module": "@jupyter-widgets/base",
      "_model_module_version": "1.2.0",
      "_model_name": "LayoutModel",
      "_view_count": null,
      "_view_module": "@jupyter-widgets/base",
      "_view_module_version": "1.2.0",
      "_view_name": "LayoutView",
      "align_content": null,
      "align_items": null,
      "align_self": null,
      "border": null,
      "bottom": null,
      "display": null,
      "flex": null,
      "flex_flow": null,
      "grid_area": null,
      "grid_auto_columns": null,
      "grid_auto_flow": null,
      "grid_auto_rows": null,
      "grid_column": null,
      "grid_gap": null,
      "grid_row": null,
      "grid_template_areas": null,
      "grid_template_columns": null,
      "grid_template_rows": null,
      "height": null,
      "justify_content": null,
      "justify_items": null,
      "left": null,
      "margin": null,
      "max_height": null,
      "max_width": null,
      "min_height": null,
      "min_width": null,
      "object_fit": null,
      "object_position": null,
      "order": null,
      "overflow": null,
      "overflow_x": null,
      "overflow_y": null,
      "padding": null,
      "right": null,
      "top": null,
      "visibility": null,
      "width": null
     }
    },
    "b12379582c8145008477cee3fe460933": {
     "model_module": "@jupyter-widgets/controls",
     "model_module_version": "1.5.0",
     "model_name": "FloatProgressModel",
     "state": {
      "_dom_classes": [],
      "_model_module": "@jupyter-widgets/controls",
      "_model_module_version": "1.5.0",
      "_model_name": "FloatProgressModel",
      "_view_count": null,
      "_view_module": "@jupyter-widgets/controls",
      "_view_module_version": "1.5.0",
      "_view_name": "ProgressView",
      "bar_style": "success",
      "description": "",
      "description_tooltip": null,
      "layout": "IPY_MODEL_934c375316cf486088804c717930cc76",
      "max": 665,
      "min": 0,
      "orientation": "horizontal",
      "style": "IPY_MODEL_5e89ec2af50f47449d2770e0e560628f",
      "value": 665
     }
    },
    "b2688572e0af428296c40f9b44987a0a": {
     "model_module": "@jupyter-widgets/controls",
     "model_module_version": "1.5.0",
     "model_name": "HTMLModel",
     "state": {
      "_dom_classes": [],
      "_model_module": "@jupyter-widgets/controls",
      "_model_module_version": "1.5.0",
      "_model_name": "HTMLModel",
      "_view_count": null,
      "_view_module": "@jupyter-widgets/controls",
      "_view_module_version": "1.5.0",
      "_view_name": "HTMLView",
      "description": "",
      "description_tooltip": null,
      "layout": "IPY_MODEL_db41752471c746069ef4d03eafd76f96",
      "placeholder": "​",
      "style": "IPY_MODEL_35afdc6ce1ea48379c323929745ac580",
      "value": "Downloading (…)olve/main/merges.txt: 100%"
     }
    },
    "b5eb3849ae3446f3bb8cad782cb18ea1": {
     "model_module": "@jupyter-widgets/base",
     "model_module_version": "1.2.0",
     "model_name": "LayoutModel",
     "state": {
      "_model_module": "@jupyter-widgets/base",
      "_model_module_version": "1.2.0",
      "_model_name": "LayoutModel",
      "_view_count": null,
      "_view_module": "@jupyter-widgets/base",
      "_view_module_version": "1.2.0",
      "_view_name": "LayoutView",
      "align_content": null,
      "align_items": null,
      "align_self": null,
      "border": null,
      "bottom": null,
      "display": null,
      "flex": null,
      "flex_flow": null,
      "grid_area": null,
      "grid_auto_columns": null,
      "grid_auto_flow": null,
      "grid_auto_rows": null,
      "grid_column": null,
      "grid_gap": null,
      "grid_row": null,
      "grid_template_areas": null,
      "grid_template_columns": null,
      "grid_template_rows": null,
      "height": null,
      "justify_content": null,
      "justify_items": null,
      "left": null,
      "margin": null,
      "max_height": null,
      "max_width": null,
      "min_height": null,
      "min_width": null,
      "object_fit": null,
      "object_position": null,
      "order": null,
      "overflow": null,
      "overflow_x": null,
      "overflow_y": null,
      "padding": null,
      "right": null,
      "top": null,
      "visibility": null,
      "width": null
     }
    },
    "b7d10bb9e35c416da166763e5c3dae4f": {
     "model_module": "@jupyter-widgets/base",
     "model_module_version": "1.2.0",
     "model_name": "LayoutModel",
     "state": {
      "_model_module": "@jupyter-widgets/base",
      "_model_module_version": "1.2.0",
      "_model_name": "LayoutModel",
      "_view_count": null,
      "_view_module": "@jupyter-widgets/base",
      "_view_module_version": "1.2.0",
      "_view_name": "LayoutView",
      "align_content": null,
      "align_items": null,
      "align_self": null,
      "border": null,
      "bottom": null,
      "display": null,
      "flex": null,
      "flex_flow": null,
      "grid_area": null,
      "grid_auto_columns": null,
      "grid_auto_flow": null,
      "grid_auto_rows": null,
      "grid_column": null,
      "grid_gap": null,
      "grid_row": null,
      "grid_template_areas": null,
      "grid_template_columns": null,
      "grid_template_rows": null,
      "height": null,
      "justify_content": null,
      "justify_items": null,
      "left": null,
      "margin": null,
      "max_height": null,
      "max_width": null,
      "min_height": null,
      "min_width": null,
      "object_fit": null,
      "object_position": null,
      "order": null,
      "overflow": null,
      "overflow_x": null,
      "overflow_y": null,
      "padding": null,
      "right": null,
      "top": null,
      "visibility": null,
      "width": null
     }
    },
    "b94554433c5c424387deae1afcab3dec": {
     "model_module": "@jupyter-widgets/controls",
     "model_module_version": "1.5.0",
     "model_name": "FloatProgressModel",
     "state": {
      "_dom_classes": [],
      "_model_module": "@jupyter-widgets/controls",
      "_model_module_version": "1.5.0",
      "_model_name": "FloatProgressModel",
      "_view_count": null,
      "_view_module": "@jupyter-widgets/controls",
      "_view_module_version": "1.5.0",
      "_view_name": "ProgressView",
      "bar_style": "success",
      "description": "",
      "description_tooltip": null,
      "layout": "IPY_MODEL_40d68f78b4b54d5b8b34411071c20d74",
      "max": 1042301,
      "min": 0,
      "orientation": "horizontal",
      "style": "IPY_MODEL_974bd6ae03ea416699ea82d70d38ebcb",
      "value": 1042301
     }
    },
    "bfd3739647da4ec9a798868c86412211": {
     "model_module": "@jupyter-widgets/base",
     "model_module_version": "1.2.0",
     "model_name": "LayoutModel",
     "state": {
      "_model_module": "@jupyter-widgets/base",
      "_model_module_version": "1.2.0",
      "_model_name": "LayoutModel",
      "_view_count": null,
      "_view_module": "@jupyter-widgets/base",
      "_view_module_version": "1.2.0",
      "_view_name": "LayoutView",
      "align_content": null,
      "align_items": null,
      "align_self": null,
      "border": null,
      "bottom": null,
      "display": null,
      "flex": null,
      "flex_flow": null,
      "grid_area": null,
      "grid_auto_columns": null,
      "grid_auto_flow": null,
      "grid_auto_rows": null,
      "grid_column": null,
      "grid_gap": null,
      "grid_row": null,
      "grid_template_areas": null,
      "grid_template_columns": null,
      "grid_template_rows": null,
      "height": null,
      "justify_content": null,
      "justify_items": null,
      "left": null,
      "margin": null,
      "max_height": null,
      "max_width": null,
      "min_height": null,
      "min_width": null,
      "object_fit": null,
      "object_position": null,
      "order": null,
      "overflow": null,
      "overflow_x": null,
      "overflow_y": null,
      "padding": null,
      "right": null,
      "top": null,
      "visibility": null,
      "width": null
     }
    },
    "c15f221404f74a5fae1a1c4583bfd0f4": {
     "model_module": "@jupyter-widgets/controls",
     "model_module_version": "1.5.0",
     "model_name": "DescriptionStyleModel",
     "state": {
      "_model_module": "@jupyter-widgets/controls",
      "_model_module_version": "1.5.0",
      "_model_name": "DescriptionStyleModel",
      "_view_count": null,
      "_view_module": "@jupyter-widgets/base",
      "_view_module_version": "1.2.0",
      "_view_name": "StyleView",
      "description_width": ""
     }
    },
    "ce6b714d91fe43d49760ab32d11d705f": {
     "model_module": "@jupyter-widgets/base",
     "model_module_version": "1.2.0",
     "model_name": "LayoutModel",
     "state": {
      "_model_module": "@jupyter-widgets/base",
      "_model_module_version": "1.2.0",
      "_model_name": "LayoutModel",
      "_view_count": null,
      "_view_module": "@jupyter-widgets/base",
      "_view_module_version": "1.2.0",
      "_view_name": "LayoutView",
      "align_content": null,
      "align_items": null,
      "align_self": null,
      "border": null,
      "bottom": null,
      "display": null,
      "flex": null,
      "flex_flow": null,
      "grid_area": null,
      "grid_auto_columns": null,
      "grid_auto_flow": null,
      "grid_auto_rows": null,
      "grid_column": null,
      "grid_gap": null,
      "grid_row": null,
      "grid_template_areas": null,
      "grid_template_columns": null,
      "grid_template_rows": null,
      "height": null,
      "justify_content": null,
      "justify_items": null,
      "left": null,
      "margin": null,
      "max_height": null,
      "max_width": null,
      "min_height": null,
      "min_width": null,
      "object_fit": null,
      "object_position": null,
      "order": null,
      "overflow": null,
      "overflow_x": null,
      "overflow_y": null,
      "padding": null,
      "right": null,
      "top": null,
      "visibility": null,
      "width": null
     }
    },
    "d1bfc5a311284da4a0f048af8d9a1d7d": {
     "model_module": "@jupyter-widgets/base",
     "model_module_version": "1.2.0",
     "model_name": "LayoutModel",
     "state": {
      "_model_module": "@jupyter-widgets/base",
      "_model_module_version": "1.2.0",
      "_model_name": "LayoutModel",
      "_view_count": null,
      "_view_module": "@jupyter-widgets/base",
      "_view_module_version": "1.2.0",
      "_view_name": "LayoutView",
      "align_content": null,
      "align_items": null,
      "align_self": null,
      "border": null,
      "bottom": null,
      "display": null,
      "flex": null,
      "flex_flow": null,
      "grid_area": null,
      "grid_auto_columns": null,
      "grid_auto_flow": null,
      "grid_auto_rows": null,
      "grid_column": null,
      "grid_gap": null,
      "grid_row": null,
      "grid_template_areas": null,
      "grid_template_columns": null,
      "grid_template_rows": null,
      "height": null,
      "justify_content": null,
      "justify_items": null,
      "left": null,
      "margin": null,
      "max_height": null,
      "max_width": null,
      "min_height": null,
      "min_width": null,
      "object_fit": null,
      "object_position": null,
      "order": null,
      "overflow": null,
      "overflow_x": null,
      "overflow_y": null,
      "padding": null,
      "right": null,
      "top": null,
      "visibility": null,
      "width": null
     }
    },
    "d54d5648f5ca43779195fbd427b6c830": {
     "model_module": "@jupyter-widgets/controls",
     "model_module_version": "1.5.0",
     "model_name": "FloatProgressModel",
     "state": {
      "_dom_classes": [],
      "_model_module": "@jupyter-widgets/controls",
      "_model_module_version": "1.5.0",
      "_model_name": "FloatProgressModel",
      "_view_count": null,
      "_view_module": "@jupyter-widgets/controls",
      "_view_module_version": "1.5.0",
      "_view_name": "ProgressView",
      "bar_style": "success",
      "description": "",
      "description_tooltip": null,
      "layout": "IPY_MODEL_1f5161eb4e964a1b81fd2d7920baac48",
      "max": 124,
      "min": 0,
      "orientation": "horizontal",
      "style": "IPY_MODEL_2d19816d17be4f0896464b19239fea97",
      "value": 124
     }
    },
    "d80c84c1c5684b1784a8d298f2289fe7": {
     "model_module": "@jupyter-widgets/controls",
     "model_module_version": "1.5.0",
     "model_name": "HTMLModel",
     "state": {
      "_dom_classes": [],
      "_model_module": "@jupyter-widgets/controls",
      "_model_module_version": "1.5.0",
      "_model_name": "HTMLModel",
      "_view_count": null,
      "_view_module": "@jupyter-widgets/controls",
      "_view_module_version": "1.5.0",
      "_view_name": "HTMLView",
      "description": "",
      "description_tooltip": null,
      "layout": "IPY_MODEL_6871c4b3dd73454dae49b4e44ddfaaaf",
      "placeholder": "​",
      "style": "IPY_MODEL_de96412f4c5a4d9eaa72f039e7858312",
      "value": " 456k/456k [00:00&lt;00:00, 2.83MB/s]"
     }
    },
    "db41752471c746069ef4d03eafd76f96": {
     "model_module": "@jupyter-widgets/base",
     "model_module_version": "1.2.0",
     "model_name": "LayoutModel",
     "state": {
      "_model_module": "@jupyter-widgets/base",
      "_model_module_version": "1.2.0",
      "_model_name": "LayoutModel",
      "_view_count": null,
      "_view_module": "@jupyter-widgets/base",
      "_view_module_version": "1.2.0",
      "_view_name": "LayoutView",
      "align_content": null,
      "align_items": null,
      "align_self": null,
      "border": null,
      "bottom": null,
      "display": null,
      "flex": null,
      "flex_flow": null,
      "grid_area": null,
      "grid_auto_columns": null,
      "grid_auto_flow": null,
      "grid_auto_rows": null,
      "grid_column": null,
      "grid_gap": null,
      "grid_row": null,
      "grid_template_areas": null,
      "grid_template_columns": null,
      "grid_template_rows": null,
      "height": null,
      "justify_content": null,
      "justify_items": null,
      "left": null,
      "margin": null,
      "max_height": null,
      "max_width": null,
      "min_height": null,
      "min_width": null,
      "object_fit": null,
      "object_position": null,
      "order": null,
      "overflow": null,
      "overflow_x": null,
      "overflow_y": null,
      "padding": null,
      "right": null,
      "top": null,
      "visibility": null,
      "width": null
     }
    },
    "de3d3b8ba98048ec8da4c9532f350f8c": {
     "model_module": "@jupyter-widgets/controls",
     "model_module_version": "1.5.0",
     "model_name": "HTMLModel",
     "state": {
      "_dom_classes": [],
      "_model_module": "@jupyter-widgets/controls",
      "_model_module_version": "1.5.0",
      "_model_name": "HTMLModel",
      "_view_count": null,
      "_view_module": "@jupyter-widgets/controls",
      "_view_module_version": "1.5.0",
      "_view_name": "HTMLView",
      "description": "",
      "description_tooltip": null,
      "layout": "IPY_MODEL_a782157f346542678cda67115665b289",
      "placeholder": "​",
      "style": "IPY_MODEL_03845586303c41bc8ca53ebddbe9fded",
      "value": " 665/665 [00:00&lt;00:00, 41.3kB/s]"
     }
    },
    "de96412f4c5a4d9eaa72f039e7858312": {
     "model_module": "@jupyter-widgets/controls",
     "model_module_version": "1.5.0",
     "model_name": "DescriptionStyleModel",
     "state": {
      "_model_module": "@jupyter-widgets/controls",
      "_model_module_version": "1.5.0",
      "_model_name": "DescriptionStyleModel",
      "_view_count": null,
      "_view_module": "@jupyter-widgets/base",
      "_view_module_version": "1.2.0",
      "_view_name": "StyleView",
      "description_width": ""
     }
    },
    "dfe60400f63e4a12b6bc83aa240982d4": {
     "model_module": "@jupyter-widgets/base",
     "model_module_version": "1.2.0",
     "model_name": "LayoutModel",
     "state": {
      "_model_module": "@jupyter-widgets/base",
      "_model_module_version": "1.2.0",
      "_model_name": "LayoutModel",
      "_view_count": null,
      "_view_module": "@jupyter-widgets/base",
      "_view_module_version": "1.2.0",
      "_view_name": "LayoutView",
      "align_content": null,
      "align_items": null,
      "align_self": null,
      "border": null,
      "bottom": null,
      "display": null,
      "flex": null,
      "flex_flow": null,
      "grid_area": null,
      "grid_auto_columns": null,
      "grid_auto_flow": null,
      "grid_auto_rows": null,
      "grid_column": null,
      "grid_gap": null,
      "grid_row": null,
      "grid_template_areas": null,
      "grid_template_columns": null,
      "grid_template_rows": null,
      "height": null,
      "justify_content": null,
      "justify_items": null,
      "left": null,
      "margin": null,
      "max_height": null,
      "max_width": null,
      "min_height": null,
      "min_width": null,
      "object_fit": null,
      "object_position": null,
      "order": null,
      "overflow": null,
      "overflow_x": null,
      "overflow_y": null,
      "padding": null,
      "right": null,
      "top": null,
      "visibility": null,
      "width": null
     }
    },
    "e48aba6a940e4a43902f7a4578091e42": {
     "model_module": "@jupyter-widgets/controls",
     "model_module_version": "1.5.0",
     "model_name": "ProgressStyleModel",
     "state": {
      "_model_module": "@jupyter-widgets/controls",
      "_model_module_version": "1.5.0",
      "_model_name": "ProgressStyleModel",
      "_view_count": null,
      "_view_module": "@jupyter-widgets/base",
      "_view_module_version": "1.2.0",
      "_view_name": "StyleView",
      "bar_color": null,
      "description_width": ""
     }
    },
    "e9477d438c5d4811ab51dd49d7789865": {
     "model_module": "@jupyter-widgets/controls",
     "model_module_version": "1.5.0",
     "model_name": "HBoxModel",
     "state": {
      "_dom_classes": [],
      "_model_module": "@jupyter-widgets/controls",
      "_model_module_version": "1.5.0",
      "_model_name": "HBoxModel",
      "_view_count": null,
      "_view_module": "@jupyter-widgets/controls",
      "_view_module_version": "1.5.0",
      "_view_name": "HBoxView",
      "box_style": "",
      "children": [
       "IPY_MODEL_768b4968116e4303ba385af9d619441d",
       "IPY_MODEL_b12379582c8145008477cee3fe460933",
       "IPY_MODEL_de3d3b8ba98048ec8da4c9532f350f8c"
      ],
      "layout": "IPY_MODEL_dfe60400f63e4a12b6bc83aa240982d4"
     }
    },
    "ef6d78b0664c453784a661ae6cb9f5ae": {
     "model_module": "@jupyter-widgets/base",
     "model_module_version": "1.2.0",
     "model_name": "LayoutModel",
     "state": {
      "_model_module": "@jupyter-widgets/base",
      "_model_module_version": "1.2.0",
      "_model_name": "LayoutModel",
      "_view_count": null,
      "_view_module": "@jupyter-widgets/base",
      "_view_module_version": "1.2.0",
      "_view_name": "LayoutView",
      "align_content": null,
      "align_items": null,
      "align_self": null,
      "border": null,
      "bottom": null,
      "display": null,
      "flex": null,
      "flex_flow": null,
      "grid_area": null,
      "grid_auto_columns": null,
      "grid_auto_flow": null,
      "grid_auto_rows": null,
      "grid_column": null,
      "grid_gap": null,
      "grid_row": null,
      "grid_template_areas": null,
      "grid_template_columns": null,
      "grid_template_rows": null,
      "height": null,
      "justify_content": null,
      "justify_items": null,
      "left": null,
      "margin": null,
      "max_height": null,
      "max_width": null,
      "min_height": null,
      "min_width": null,
      "object_fit": null,
      "object_position": null,
      "order": null,
      "overflow": null,
      "overflow_x": null,
      "overflow_y": null,
      "padding": null,
      "right": null,
      "top": null,
      "visibility": null,
      "width": null
     }
    },
    "f6a06cd0555b4a86b777bc6267d20607": {
     "model_module": "@jupyter-widgets/controls",
     "model_module_version": "1.5.0",
     "model_name": "FloatProgressModel",
     "state": {
      "_dom_classes": [],
      "_model_module": "@jupyter-widgets/controls",
      "_model_module_version": "1.5.0",
      "_model_name": "FloatProgressModel",
      "_view_count": null,
      "_view_module": "@jupyter-widgets/controls",
      "_view_module_version": "1.5.0",
      "_view_name": "ProgressView",
      "bar_style": "success",
      "description": "",
      "description_tooltip": null,
      "layout": "IPY_MODEL_ce6b714d91fe43d49760ab32d11d705f",
      "max": 456318,
      "min": 0,
      "orientation": "horizontal",
      "style": "IPY_MODEL_e48aba6a940e4a43902f7a4578091e42",
      "value": 456318
     }
    },
    "f7c0495e1d874393b215b16a8728b912": {
     "model_module": "@jupyter-widgets/controls",
     "model_module_version": "1.5.0",
     "model_name": "DescriptionStyleModel",
     "state": {
      "_model_module": "@jupyter-widgets/controls",
      "_model_module_version": "1.5.0",
      "_model_name": "DescriptionStyleModel",
      "_view_count": null,
      "_view_module": "@jupyter-widgets/base",
      "_view_module_version": "1.2.0",
      "_view_name": "StyleView",
      "description_width": ""
     }
    }
   }
  }
 },
 "nbformat": 4,
 "nbformat_minor": 1
}
